{
 "cells": [
  {
   "cell_type": "code",
   "execution_count": 6,
   "metadata": {},
   "outputs": [],
   "source": [
    "import scanpy as sc\n",
    "import pandas as pd\n",
    "import numpy as np\n",
    "import json\n",
    "import geopandas as gpd\n",
    "from shapely.geometry import Polygon, LineString\n",
    "import matplotlib.pyplot as plt\n",
    "from shapely import wkb\n",
    "import csv"
   ]
  },
  {
   "cell_type": "code",
   "execution_count": 2,
   "metadata": {},
   "outputs": [
    {
     "data": {
      "text/html": [
       "<div>\n",
       "<style scoped>\n",
       "    .dataframe tbody tr th:only-of-type {\n",
       "        vertical-align: middle;\n",
       "    }\n",
       "\n",
       "    .dataframe tbody tr th {\n",
       "        vertical-align: top;\n",
       "    }\n",
       "\n",
       "    .dataframe thead th {\n",
       "        text-align: right;\n",
       "    }\n",
       "</style>\n",
       "<table border=\"1\" class=\"dataframe\">\n",
       "  <thead>\n",
       "    <tr style=\"text-align: right;\">\n",
       "      <th></th>\n",
       "      <th>Unnamed: 0</th>\n",
       "      <th>z</th>\n",
       "      <th>x</th>\n",
       "      <th>y</th>\n",
       "      <th>Cor_</th>\n",
       "      <th>Xdist_</th>\n",
       "      <th>Hraw</th>\n",
       "      <th>memdist</th>\n",
       "      <th>memdist2d</th>\n",
       "      <th>isnuc</th>\n",
       "      <th>icodesN</th>\n",
       "      <th>cid</th>\n",
       "      <th>gene</th>\n",
       "      <th>z_plane</th>\n",
       "    </tr>\n",
       "  </thead>\n",
       "  <tbody>\n",
       "    <tr>\n",
       "      <th>0</th>\n",
       "      <td>3972</td>\n",
       "      <td>42.596617</td>\n",
       "      <td>368.060784</td>\n",
       "      <td>442.097685</td>\n",
       "      <td>0.439402</td>\n",
       "      <td>1.457996</td>\n",
       "      <td>152.109390</td>\n",
       "      <td>1.753848</td>\n",
       "      <td>2.358756</td>\n",
       "      <td>0.0</td>\n",
       "      <td>809.0</td>\n",
       "      <td>E1_1881.0</td>\n",
       "      <td>sox5</td>\n",
       "      <td>43.0</td>\n",
       "    </tr>\n",
       "    <tr>\n",
       "      <th>1</th>\n",
       "      <td>3973</td>\n",
       "      <td>42.757233</td>\n",
       "      <td>368.255092</td>\n",
       "      <td>442.123181</td>\n",
       "      <td>0.464502</td>\n",
       "      <td>1.437308</td>\n",
       "      <td>159.230977</td>\n",
       "      <td>1.860348</td>\n",
       "      <td>2.358756</td>\n",
       "      <td>0.0</td>\n",
       "      <td>810.0</td>\n",
       "      <td>E1_1881.0</td>\n",
       "      <td>sox5</td>\n",
       "      <td>43.0</td>\n",
       "    </tr>\n",
       "    <tr>\n",
       "      <th>2</th>\n",
       "      <td>3997</td>\n",
       "      <td>42.546078</td>\n",
       "      <td>438.179303</td>\n",
       "      <td>510.375109</td>\n",
       "      <td>0.671629</td>\n",
       "      <td>0.886841</td>\n",
       "      <td>245.393122</td>\n",
       "      <td>0.864000</td>\n",
       "      <td>2.173458</td>\n",
       "      <td>1.0</td>\n",
       "      <td>140.0</td>\n",
       "      <td>E1_1670.0</td>\n",
       "      <td>cldnd</td>\n",
       "      <td>43.0</td>\n",
       "    </tr>\n",
       "    <tr>\n",
       "      <th>3</th>\n",
       "      <td>3999</td>\n",
       "      <td>42.567083</td>\n",
       "      <td>449.786560</td>\n",
       "      <td>527.675836</td>\n",
       "      <td>0.586567</td>\n",
       "      <td>1.203291</td>\n",
       "      <td>286.048952</td>\n",
       "      <td>1.080000</td>\n",
       "      <td>1.858102</td>\n",
       "      <td>0.0</td>\n",
       "      <td>500.0</td>\n",
       "      <td>E1_1670.0</td>\n",
       "      <td>mab21l2</td>\n",
       "      <td>43.0</td>\n",
       "    </tr>\n",
       "    <tr>\n",
       "      <th>4</th>\n",
       "      <td>4004</td>\n",
       "      <td>42.605350</td>\n",
       "      <td>457.608467</td>\n",
       "      <td>472.263434</td>\n",
       "      <td>0.447917</td>\n",
       "      <td>1.493398</td>\n",
       "      <td>202.033241</td>\n",
       "      <td>1.620000</td>\n",
       "      <td>3.148714</td>\n",
       "      <td>1.0</td>\n",
       "      <td>833.0</td>\n",
       "      <td>E1_1206.0</td>\n",
       "      <td>syne2b</td>\n",
       "      <td>43.0</td>\n",
       "    </tr>\n",
       "    <tr>\n",
       "      <th>...</th>\n",
       "      <td>...</td>\n",
       "      <td>...</td>\n",
       "      <td>...</td>\n",
       "      <td>...</td>\n",
       "      <td>...</td>\n",
       "      <td>...</td>\n",
       "      <td>...</td>\n",
       "      <td>...</td>\n",
       "      <td>...</td>\n",
       "      <td>...</td>\n",
       "      <td>...</td>\n",
       "      <td>...</td>\n",
       "      <td>...</td>\n",
       "      <td>...</td>\n",
       "    </tr>\n",
       "    <tr>\n",
       "      <th>2099343</th>\n",
       "      <td>82867264</td>\n",
       "      <td>43.422396</td>\n",
       "      <td>1731.571320</td>\n",
       "      <td>1659.208675</td>\n",
       "      <td>0.850049</td>\n",
       "      <td>0.000000</td>\n",
       "      <td>216.713869</td>\n",
       "      <td>0.324000</td>\n",
       "      <td>1.069146</td>\n",
       "      <td>0.0</td>\n",
       "      <td>-11.0</td>\n",
       "      <td>E1_22963.0</td>\n",
       "      <td>nanos3</td>\n",
       "      <td>43.0</td>\n",
       "    </tr>\n",
       "    <tr>\n",
       "      <th>2099344</th>\n",
       "      <td>82867265</td>\n",
       "      <td>43.413569</td>\n",
       "      <td>1738.182648</td>\n",
       "      <td>1723.447109</td>\n",
       "      <td>0.770791</td>\n",
       "      <td>0.000000</td>\n",
       "      <td>227.155847</td>\n",
       "      <td>0.241495</td>\n",
       "      <td>0.341526</td>\n",
       "      <td>0.0</td>\n",
       "      <td>-11.0</td>\n",
       "      <td>E1_22854.0</td>\n",
       "      <td>nanos3</td>\n",
       "      <td>43.0</td>\n",
       "    </tr>\n",
       "    <tr>\n",
       "      <th>2099345</th>\n",
       "      <td>82867266</td>\n",
       "      <td>43.457354</td>\n",
       "      <td>1741.617585</td>\n",
       "      <td>1737.569500</td>\n",
       "      <td>0.824212</td>\n",
       "      <td>0.000000</td>\n",
       "      <td>166.051341</td>\n",
       "      <td>0.108000</td>\n",
       "      <td>0.540000</td>\n",
       "      <td>0.0</td>\n",
       "      <td>-11.0</td>\n",
       "      <td>E1_22854.0</td>\n",
       "      <td>nanos3</td>\n",
       "      <td>43.0</td>\n",
       "    </tr>\n",
       "    <tr>\n",
       "      <th>2099346</th>\n",
       "      <td>82867267</td>\n",
       "      <td>43.395899</td>\n",
       "      <td>1808.409333</td>\n",
       "      <td>1639.957134</td>\n",
       "      <td>0.849513</td>\n",
       "      <td>0.000000</td>\n",
       "      <td>232.359476</td>\n",
       "      <td>0.324000</td>\n",
       "      <td>1.404000</td>\n",
       "      <td>0.0</td>\n",
       "      <td>-11.0</td>\n",
       "      <td>E1_22451.0</td>\n",
       "      <td>nanos3</td>\n",
       "      <td>43.0</td>\n",
       "    </tr>\n",
       "    <tr>\n",
       "      <th>2099347</th>\n",
       "      <td>82867268</td>\n",
       "      <td>43.409060</td>\n",
       "      <td>1819.658387</td>\n",
       "      <td>1596.737003</td>\n",
       "      <td>0.834104</td>\n",
       "      <td>0.000000</td>\n",
       "      <td>207.733500</td>\n",
       "      <td>0.581598</td>\n",
       "      <td>2.706472</td>\n",
       "      <td>0.0</td>\n",
       "      <td>-11.0</td>\n",
       "      <td>E1_22740.0</td>\n",
       "      <td>nanos3</td>\n",
       "      <td>43.0</td>\n",
       "    </tr>\n",
       "  </tbody>\n",
       "</table>\n",
       "<p>2099348 rows × 14 columns</p>\n",
       "</div>"
      ],
      "text/plain": [
       "         Unnamed: 0          z            x            y      Cor_    Xdist_  \\\n",
       "0              3972  42.596617   368.060784   442.097685  0.439402  1.457996   \n",
       "1              3973  42.757233   368.255092   442.123181  0.464502  1.437308   \n",
       "2              3997  42.546078   438.179303   510.375109  0.671629  0.886841   \n",
       "3              3999  42.567083   449.786560   527.675836  0.586567  1.203291   \n",
       "4              4004  42.605350   457.608467   472.263434  0.447917  1.493398   \n",
       "...             ...        ...          ...          ...       ...       ...   \n",
       "2099343    82867264  43.422396  1731.571320  1659.208675  0.850049  0.000000   \n",
       "2099344    82867265  43.413569  1738.182648  1723.447109  0.770791  0.000000   \n",
       "2099345    82867266  43.457354  1741.617585  1737.569500  0.824212  0.000000   \n",
       "2099346    82867267  43.395899  1808.409333  1639.957134  0.849513  0.000000   \n",
       "2099347    82867268  43.409060  1819.658387  1596.737003  0.834104  0.000000   \n",
       "\n",
       "               Hraw   memdist  memdist2d  isnuc  icodesN         cid     gene  \\\n",
       "0        152.109390  1.753848   2.358756    0.0    809.0   E1_1881.0     sox5   \n",
       "1        159.230977  1.860348   2.358756    0.0    810.0   E1_1881.0     sox5   \n",
       "2        245.393122  0.864000   2.173458    1.0    140.0   E1_1670.0    cldnd   \n",
       "3        286.048952  1.080000   1.858102    0.0    500.0   E1_1670.0  mab21l2   \n",
       "4        202.033241  1.620000   3.148714    1.0    833.0   E1_1206.0   syne2b   \n",
       "...             ...       ...        ...    ...      ...         ...      ...   \n",
       "2099343  216.713869  0.324000   1.069146    0.0    -11.0  E1_22963.0   nanos3   \n",
       "2099344  227.155847  0.241495   0.341526    0.0    -11.0  E1_22854.0   nanos3   \n",
       "2099345  166.051341  0.108000   0.540000    0.0    -11.0  E1_22854.0   nanos3   \n",
       "2099346  232.359476  0.324000   1.404000    0.0    -11.0  E1_22451.0   nanos3   \n",
       "2099347  207.733500  0.581598   2.706472    0.0    -11.0  E1_22740.0   nanos3   \n",
       "\n",
       "         z_plane  \n",
       "0           43.0  \n",
       "1           43.0  \n",
       "2           43.0  \n",
       "3           43.0  \n",
       "4           43.0  \n",
       "...          ...  \n",
       "2099343     43.0  \n",
       "2099344     43.0  \n",
       "2099345     43.0  \n",
       "2099346     43.0  \n",
       "2099347     43.0  \n",
       "\n",
       "[2099348 rows x 14 columns]"
      ]
     },
     "execution_count": 2,
     "metadata": {},
     "output_type": "execute_result"
    }
   ],
   "source": [
    "# df = pd.read_csv(\"./genes_raw/transcripts_z_43.csv\")\n",
    "# df"
   ]
  },
  {
   "cell_type": "code",
   "execution_count": 2,
   "metadata": {},
   "outputs": [
    {
     "name": "stderr",
     "output_type": "stream",
     "text": [
      "Processing layers:   0%|          | 0/60 [00:00<?, ?it/s]"
     ]
    },
    {
     "name": "stdout",
     "output_type": "stream",
     "text": [
      "Processing layer 0...\n"
     ]
    },
    {
     "name": "stderr",
     "output_type": "stream",
     "text": [
      "Processing genes for layer 0: 100%|██████████| 495/495 [00:00<00:00, 18091.34it/s]\n"
     ]
    },
    {
     "name": "stdout",
     "output_type": "stream",
     "text": [
      "Processing layer 1...\n"
     ]
    },
    {
     "name": "stderr",
     "output_type": "stream",
     "text": [
      "Processing genes for layer 1: 100%|██████████| 495/495 [00:00<00:00, 15957.36it/s]\n"
     ]
    },
    {
     "name": "stdout",
     "output_type": "stream",
     "text": [
      "Processing layer 2...\n"
     ]
    },
    {
     "name": "stderr",
     "output_type": "stream",
     "text": [
      "Processing genes for layer 2: 100%|██████████| 495/495 [00:00<00:00, 10989.50it/s]\n",
      "Processing layers:   5%|▌         | 3/60 [00:00<00:02, 26.34it/s]"
     ]
    },
    {
     "name": "stdout",
     "output_type": "stream",
     "text": [
      "Processing layer 3...\n"
     ]
    },
    {
     "name": "stderr",
     "output_type": "stream",
     "text": [
      "Processing genes for layer 3: 100%|██████████| 495/495 [00:00<00:00, 8450.89it/s]\n"
     ]
    },
    {
     "name": "stdout",
     "output_type": "stream",
     "text": [
      "Processing layer 4...\n"
     ]
    },
    {
     "name": "stderr",
     "output_type": "stream",
     "text": [
      "Processing genes for layer 4: 100%|██████████| 495/495 [00:00<00:00, 5120.42it/s]\n"
     ]
    },
    {
     "name": "stdout",
     "output_type": "stream",
     "text": [
      "Processing layer 5...\n"
     ]
    },
    {
     "name": "stderr",
     "output_type": "stream",
     "text": [
      "Processing genes for layer 5: 100%|██████████| 495/495 [00:00<00:00, 1710.00it/s]\n",
      "Processing layers:  10%|█         | 6/60 [00:00<00:05,  9.37it/s]"
     ]
    },
    {
     "name": "stdout",
     "output_type": "stream",
     "text": [
      "Processing layer 6...\n"
     ]
    },
    {
     "name": "stderr",
     "output_type": "stream",
     "text": [
      "Processing genes for layer 6: 100%|██████████| 495/495 [00:00<00:00, 516.29it/s]\n"
     ]
    },
    {
     "name": "stdout",
     "output_type": "stream",
     "text": [
      "Processing layer 7...\n"
     ]
    },
    {
     "name": "stderr",
     "output_type": "stream",
     "text": [
      "Processing genes for layer 7: 100%|██████████| 495/495 [00:01<00:00, 276.88it/s]\n",
      "Processing layers:  13%|█▎        | 8/60 [00:03<00:30,  1.73it/s]"
     ]
    },
    {
     "name": "stdout",
     "output_type": "stream",
     "text": [
      "Processing layer 8...\n"
     ]
    },
    {
     "name": "stderr",
     "output_type": "stream",
     "text": [
      "Processing genes for layer 8: 100%|██████████| 495/495 [00:03<00:00, 162.62it/s]\n",
      "Processing layers:  15%|█▌        | 9/60 [00:06<00:56,  1.10s/it]"
     ]
    },
    {
     "name": "stdout",
     "output_type": "stream",
     "text": [
      "Processing layer 9...\n"
     ]
    },
    {
     "name": "stderr",
     "output_type": "stream",
     "text": [
      "Processing genes for layer 9: 100%|██████████| 495/495 [00:04<00:00, 115.62it/s]\n",
      "Processing layers:  17%|█▋        | 10/60 [00:10<01:32,  1.85s/it]"
     ]
    },
    {
     "name": "stdout",
     "output_type": "stream",
     "text": [
      "Processing layer 10...\n"
     ]
    },
    {
     "name": "stderr",
     "output_type": "stream",
     "text": [
      "Processing genes for layer 10: 100%|██████████| 495/495 [00:06<00:00, 81.27it/s]\n",
      "Processing layers:  18%|█▊        | 11/60 [00:17<02:23,  2.93s/it]"
     ]
    },
    {
     "name": "stdout",
     "output_type": "stream",
     "text": [
      "Processing layer 11...\n"
     ]
    },
    {
     "name": "stderr",
     "output_type": "stream",
     "text": [
      "Processing genes for layer 11: 100%|██████████| 495/495 [00:08<00:00, 57.84it/s]\n",
      "Processing layers:  20%|██        | 12/60 [00:26<03:33,  4.45s/it]"
     ]
    },
    {
     "name": "stdout",
     "output_type": "stream",
     "text": [
      "Processing layer 12...\n"
     ]
    },
    {
     "name": "stderr",
     "output_type": "stream",
     "text": [
      "Processing genes for layer 12: 100%|██████████| 495/495 [00:11<00:00, 43.75it/s]\n",
      "Processing layers:  22%|██▏       | 13/60 [00:37<05:00,  6.40s/it]"
     ]
    },
    {
     "name": "stdout",
     "output_type": "stream",
     "text": [
      "Processing layer 13...\n"
     ]
    },
    {
     "name": "stderr",
     "output_type": "stream",
     "text": [
      "Processing genes for layer 13: 100%|██████████| 495/495 [00:13<00:00, 36.10it/s]\n",
      "Processing layers:  23%|██▎       | 14/60 [00:51<06:33,  8.55s/it]"
     ]
    },
    {
     "name": "stdout",
     "output_type": "stream",
     "text": [
      "Processing layer 14...\n"
     ]
    },
    {
     "name": "stderr",
     "output_type": "stream",
     "text": [
      "Processing genes for layer 14: 100%|██████████| 495/495 [00:16<00:00, 30.68it/s]\n",
      "Processing layers:  25%|██▌       | 15/60 [01:08<08:09, 10.87s/it]"
     ]
    },
    {
     "name": "stdout",
     "output_type": "stream",
     "text": [
      "Processing layer 15...\n"
     ]
    },
    {
     "name": "stderr",
     "output_type": "stream",
     "text": [
      "Processing genes for layer 15: 100%|██████████| 495/495 [00:18<00:00, 26.79it/s]\n",
      "Processing layers:  27%|██▋       | 16/60 [01:27<09:42, 13.23s/it]"
     ]
    },
    {
     "name": "stdout",
     "output_type": "stream",
     "text": [
      "Processing layer 16...\n"
     ]
    },
    {
     "name": "stderr",
     "output_type": "stream",
     "text": [
      "Processing genes for layer 16: 100%|██████████| 495/495 [00:20<00:00, 23.85it/s]\n",
      "Processing layers:  28%|██▊       | 17/60 [01:49<11:11, 15.62s/it]"
     ]
    },
    {
     "name": "stdout",
     "output_type": "stream",
     "text": [
      "Processing layer 17...\n"
     ]
    },
    {
     "name": "stderr",
     "output_type": "stream",
     "text": [
      "Processing genes for layer 17: 100%|██████████| 495/495 [00:22<00:00, 21.68it/s]\n",
      "Processing layers:  30%|███       | 18/60 [02:12<12:33, 17.95s/it]"
     ]
    },
    {
     "name": "stdout",
     "output_type": "stream",
     "text": [
      "Processing layer 18...\n"
     ]
    },
    {
     "name": "stderr",
     "output_type": "stream",
     "text": [
      "Processing genes for layer 18: 100%|██████████| 495/495 [00:24<00:00, 20.04it/s]\n",
      "Processing layers:  32%|███▏      | 19/60 [02:38<13:47, 20.18s/it]"
     ]
    },
    {
     "name": "stdout",
     "output_type": "stream",
     "text": [
      "Processing layer 19...\n"
     ]
    },
    {
     "name": "stderr",
     "output_type": "stream",
     "text": [
      "Processing genes for layer 19: 100%|██████████| 495/495 [00:27<00:00, 17.94it/s]\n",
      "Processing layers:  33%|███▎      | 20/60 [03:06<15:05, 22.64s/it]"
     ]
    },
    {
     "name": "stdout",
     "output_type": "stream",
     "text": [
      "Processing layer 20...\n"
     ]
    },
    {
     "name": "stderr",
     "output_type": "stream",
     "text": [
      "Processing genes for layer 20: 100%|██████████| 495/495 [00:29<00:00, 16.84it/s]\n",
      "Processing layers:  35%|███▌      | 21/60 [03:36<16:12, 24.93s/it]"
     ]
    },
    {
     "name": "stdout",
     "output_type": "stream",
     "text": [
      "Processing layer 21...\n"
     ]
    },
    {
     "name": "stderr",
     "output_type": "stream",
     "text": [
      "Processing genes for layer 21: 100%|██████████| 495/495 [00:30<00:00, 16.36it/s]\n",
      "Processing layers:  37%|███▋      | 22/60 [04:07<16:58, 26.79s/it]"
     ]
    },
    {
     "name": "stdout",
     "output_type": "stream",
     "text": [
      "Processing layer 22...\n"
     ]
    },
    {
     "name": "stderr",
     "output_type": "stream",
     "text": [
      "Processing genes for layer 22: 100%|██████████| 495/495 [00:32<00:00, 15.35it/s]\n",
      "Processing layers:  38%|███▊      | 23/60 [04:41<17:42, 28.72s/it]"
     ]
    },
    {
     "name": "stdout",
     "output_type": "stream",
     "text": [
      "Processing layer 23...\n"
     ]
    },
    {
     "name": "stderr",
     "output_type": "stream",
     "text": [
      "Processing genes for layer 23: 100%|██████████| 495/495 [00:32<00:00, 15.37it/s]\n",
      "Processing layers:  40%|████      | 24/60 [05:14<18:02, 30.08s/it]"
     ]
    },
    {
     "name": "stdout",
     "output_type": "stream",
     "text": [
      "Processing layer 24...\n"
     ]
    },
    {
     "name": "stderr",
     "output_type": "stream",
     "text": [
      "Processing genes for layer 24: 100%|██████████| 495/495 [00:33<00:00, 14.95it/s]\n",
      "Processing layers:  42%|████▏     | 25/60 [05:48<18:15, 31.29s/it]"
     ]
    },
    {
     "name": "stdout",
     "output_type": "stream",
     "text": [
      "Processing layer 25...\n"
     ]
    },
    {
     "name": "stderr",
     "output_type": "stream",
     "text": [
      "Processing genes for layer 25: 100%|██████████| 495/495 [00:34<00:00, 14.40it/s]\n",
      "Processing layers:  43%|████▎     | 26/60 [06:24<18:26, 32.54s/it]"
     ]
    },
    {
     "name": "stdout",
     "output_type": "stream",
     "text": [
      "Processing layer 26...\n"
     ]
    },
    {
     "name": "stderr",
     "output_type": "stream",
     "text": [
      "Processing genes for layer 26: 100%|██████████| 495/495 [00:35<00:00, 13.81it/s]\n",
      "Processing layers:  45%|████▌     | 27/60 [07:00<18:37, 33.85s/it]"
     ]
    },
    {
     "name": "stdout",
     "output_type": "stream",
     "text": [
      "Processing layer 27...\n"
     ]
    },
    {
     "name": "stderr",
     "output_type": "stream",
     "text": [
      "Processing genes for layer 27: 100%|██████████| 495/495 [00:37<00:00, 13.35it/s]\n",
      "Processing layers:  47%|████▋     | 28/60 [07:39<18:45, 35.16s/it]"
     ]
    },
    {
     "name": "stdout",
     "output_type": "stream",
     "text": [
      "Processing layer 28...\n"
     ]
    },
    {
     "name": "stderr",
     "output_type": "stream",
     "text": [
      "Processing genes for layer 28: 100%|██████████| 495/495 [00:37<00:00, 13.08it/s]\n",
      "Processing layers:  48%|████▊     | 29/60 [08:18<18:45, 36.32s/it]"
     ]
    },
    {
     "name": "stdout",
     "output_type": "stream",
     "text": [
      "Processing layer 29...\n"
     ]
    },
    {
     "name": "stderr",
     "output_type": "stream",
     "text": [
      "Processing genes for layer 29: 100%|██████████| 495/495 [00:38<00:00, 12.69it/s]\n",
      "Processing layers:  50%|█████     | 30/60 [08:58<18:44, 37.50s/it]"
     ]
    },
    {
     "name": "stdout",
     "output_type": "stream",
     "text": [
      "Processing layer 30...\n"
     ]
    },
    {
     "name": "stderr",
     "output_type": "stream",
     "text": [
      "Processing genes for layer 30: 100%|██████████| 495/495 [00:39<00:00, 12.61it/s]\n",
      "Processing layers:  52%|█████▏    | 31/60 [09:38<18:33, 38.39s/it]"
     ]
    },
    {
     "name": "stdout",
     "output_type": "stream",
     "text": [
      "Processing layer 31...\n"
     ]
    },
    {
     "name": "stderr",
     "output_type": "stream",
     "text": [
      "Processing genes for layer 31: 100%|██████████| 495/495 [00:40<00:00, 12.21it/s]\n",
      "Processing layers:  53%|█████▎    | 32/60 [10:20<18:23, 39.40s/it]"
     ]
    },
    {
     "name": "stdout",
     "output_type": "stream",
     "text": [
      "Processing layer 32...\n"
     ]
    },
    {
     "name": "stderr",
     "output_type": "stream",
     "text": [
      "Processing genes for layer 32: 100%|██████████| 495/495 [00:41<00:00, 12.00it/s]\n",
      "Processing layers:  55%|█████▌    | 33/60 [11:03<18:09, 40.34s/it]"
     ]
    },
    {
     "name": "stdout",
     "output_type": "stream",
     "text": [
      "Processing layer 33...\n"
     ]
    },
    {
     "name": "stderr",
     "output_type": "stream",
     "text": [
      "Processing genes for layer 33: 100%|██████████| 495/495 [00:42<00:00, 11.78it/s]\n",
      "Processing layers:  57%|█████▋    | 34/60 [11:46<17:52, 41.23s/it]"
     ]
    },
    {
     "name": "stdout",
     "output_type": "stream",
     "text": [
      "Processing layer 34...\n"
     ]
    },
    {
     "name": "stderr",
     "output_type": "stream",
     "text": [
      "Processing genes for layer 34: 100%|██████████| 495/495 [00:43<00:00, 11.47it/s]\n",
      "Processing layers:  58%|█████▊    | 35/60 [12:31<17:35, 42.22s/it]"
     ]
    },
    {
     "name": "stdout",
     "output_type": "stream",
     "text": [
      "Processing layer 35...\n"
     ]
    },
    {
     "name": "stderr",
     "output_type": "stream",
     "text": [
      "Processing genes for layer 35: 100%|██████████| 495/495 [00:43<00:00, 11.36it/s]\n",
      "Processing layers:  60%|██████    | 36/60 [13:16<17:13, 43.05s/it]"
     ]
    },
    {
     "name": "stdout",
     "output_type": "stream",
     "text": [
      "Processing layer 36...\n"
     ]
    },
    {
     "name": "stderr",
     "output_type": "stream",
     "text": [
      "Processing genes for layer 36: 100%|██████████| 495/495 [00:44<00:00, 11.24it/s]\n",
      "Processing layers:  62%|██████▏   | 37/60 [14:01<16:46, 43.75s/it]"
     ]
    },
    {
     "name": "stdout",
     "output_type": "stream",
     "text": [
      "Processing layer 37...\n"
     ]
    },
    {
     "name": "stderr",
     "output_type": "stream",
     "text": [
      "Processing genes for layer 37: 100%|██████████| 495/495 [00:44<00:00, 11.08it/s]\n",
      "Processing layers:  63%|██████▎   | 38/60 [14:47<16:17, 44.45s/it]"
     ]
    },
    {
     "name": "stdout",
     "output_type": "stream",
     "text": [
      "Processing layer 38...\n"
     ]
    },
    {
     "name": "stderr",
     "output_type": "stream",
     "text": [
      "Processing genes for layer 38: 100%|██████████| 495/495 [00:45<00:00, 10.88it/s]\n",
      "Processing layers:  65%|██████▌   | 39/60 [15:34<15:48, 45.18s/it]"
     ]
    },
    {
     "name": "stdout",
     "output_type": "stream",
     "text": [
      "Processing layer 39...\n"
     ]
    },
    {
     "name": "stderr",
     "output_type": "stream",
     "text": [
      "Processing genes for layer 39: 100%|██████████| 495/495 [00:46<00:00, 10.73it/s]\n",
      "Processing layers:  67%|██████▋   | 40/60 [16:21<15:17, 45.88s/it]"
     ]
    },
    {
     "name": "stdout",
     "output_type": "stream",
     "text": [
      "Processing layer 40...\n"
     ]
    },
    {
     "name": "stderr",
     "output_type": "stream",
     "text": [
      "Processing genes for layer 40: 100%|██████████| 495/495 [00:46<00:00, 10.65it/s]\n",
      "Processing layers:  68%|██████▊   | 41/60 [17:09<14:43, 46.51s/it]"
     ]
    },
    {
     "name": "stdout",
     "output_type": "stream",
     "text": [
      "Processing layer 41...\n"
     ]
    },
    {
     "name": "stderr",
     "output_type": "stream",
     "text": [
      "Processing genes for layer 41: 100%|██████████| 495/495 [00:47<00:00, 10.48it/s]\n",
      "Processing layers:  70%|███████   | 42/60 [17:58<14:09, 47.17s/it]"
     ]
    },
    {
     "name": "stdout",
     "output_type": "stream",
     "text": [
      "Processing layer 42...\n"
     ]
    },
    {
     "name": "stderr",
     "output_type": "stream",
     "text": [
      "Processing genes for layer 42: 100%|██████████| 495/495 [00:48<00:00, 10.29it/s]\n",
      "Processing layers:  72%|███████▏  | 43/60 [18:48<13:34, 47.90s/it]"
     ]
    },
    {
     "name": "stdout",
     "output_type": "stream",
     "text": [
      "Processing layer 43...\n"
     ]
    },
    {
     "name": "stderr",
     "output_type": "stream",
     "text": [
      "Processing genes for layer 43: 100%|██████████| 495/495 [00:48<00:00, 10.11it/s]\n",
      "Processing layers:  73%|███████▎  | 44/60 [19:38<12:58, 48.67s/it]"
     ]
    },
    {
     "name": "stdout",
     "output_type": "stream",
     "text": [
      "Processing layer 44...\n"
     ]
    },
    {
     "name": "stderr",
     "output_type": "stream",
     "text": [
      "Processing genes for layer 44: 100%|██████████| 495/495 [00:49<00:00,  9.98it/s]\n",
      "Processing layers:  75%|███████▌  | 45/60 [20:29<12:21, 49.42s/it]"
     ]
    },
    {
     "name": "stdout",
     "output_type": "stream",
     "text": [
      "Processing layer 45...\n"
     ]
    },
    {
     "name": "stderr",
     "output_type": "stream",
     "text": [
      "Processing genes for layer 45: 100%|██████████| 495/495 [00:49<00:00,  9.97it/s]\n",
      "Processing layers:  77%|███████▋  | 46/60 [21:21<11:39, 49.95s/it]"
     ]
    },
    {
     "name": "stdout",
     "output_type": "stream",
     "text": [
      "Processing layer 46...\n"
     ]
    },
    {
     "name": "stderr",
     "output_type": "stream",
     "text": [
      "Processing genes for layer 46: 100%|██████████| 495/495 [00:49<00:00,  9.94it/s]\n",
      "Processing layers:  78%|███████▊  | 47/60 [22:12<10:54, 50.37s/it]"
     ]
    },
    {
     "name": "stdout",
     "output_type": "stream",
     "text": [
      "Processing layer 47...\n"
     ]
    },
    {
     "name": "stderr",
     "output_type": "stream",
     "text": [
      "Processing genes for layer 47: 100%|██████████| 495/495 [00:49<00:00, 10.00it/s]\n",
      "Processing layers:  80%|████████  | 48/60 [23:03<10:06, 50.56s/it]"
     ]
    },
    {
     "name": "stdout",
     "output_type": "stream",
     "text": [
      "Processing layer 48...\n"
     ]
    },
    {
     "name": "stderr",
     "output_type": "stream",
     "text": [
      "Processing genes for layer 48: 100%|██████████| 495/495 [00:49<00:00,  9.99it/s]\n",
      "Processing layers:  82%|████████▏ | 49/60 [23:54<09:17, 50.72s/it]"
     ]
    },
    {
     "name": "stdout",
     "output_type": "stream",
     "text": [
      "Processing layer 49...\n"
     ]
    },
    {
     "name": "stderr",
     "output_type": "stream",
     "text": [
      "Processing genes for layer 49: 100%|██████████| 495/495 [00:49<00:00,  9.96it/s]\n",
      "Processing layers:  83%|████████▎ | 50/60 [24:45<08:28, 50.87s/it]"
     ]
    },
    {
     "name": "stdout",
     "output_type": "stream",
     "text": [
      "Processing layer 50...\n"
     ]
    },
    {
     "name": "stderr",
     "output_type": "stream",
     "text": [
      "Processing genes for layer 50: 100%|██████████| 495/495 [00:50<00:00,  9.88it/s]\n",
      "Processing layers:  85%|████████▌ | 51/60 [25:37<07:40, 51.12s/it]"
     ]
    },
    {
     "name": "stdout",
     "output_type": "stream",
     "text": [
      "Processing layer 51...\n"
     ]
    },
    {
     "name": "stderr",
     "output_type": "stream",
     "text": [
      "Processing genes for layer 51: 100%|██████████| 495/495 [00:50<00:00,  9.77it/s]\n",
      "Processing layers:  87%|████████▋ | 52/60 [26:29<06:51, 51.46s/it]"
     ]
    },
    {
     "name": "stdout",
     "output_type": "stream",
     "text": [
      "Processing layer 52...\n"
     ]
    },
    {
     "name": "stderr",
     "output_type": "stream",
     "text": [
      "Processing genes for layer 52: 100%|██████████| 495/495 [00:53<00:00,  9.23it/s]\n",
      "Processing layers:  88%|████████▊ | 53/60 [27:24<06:08, 52.60s/it]"
     ]
    },
    {
     "name": "stdout",
     "output_type": "stream",
     "text": [
      "Processing layer 53...\n"
     ]
    },
    {
     "name": "stderr",
     "output_type": "stream",
     "text": [
      "Processing genes for layer 53: 100%|██████████| 495/495 [00:57<00:00,  8.60it/s]\n",
      "Processing layers:  90%|█████████ | 54/60 [28:24<05:27, 54.64s/it]"
     ]
    },
    {
     "name": "stdout",
     "output_type": "stream",
     "text": [
      "Processing layer 54...\n"
     ]
    },
    {
     "name": "stderr",
     "output_type": "stream",
     "text": [
      "Processing genes for layer 54: 100%|██████████| 495/495 [01:13<00:00,  6.77it/s]\n",
      "Processing layers:  92%|█████████▏| 55/60 [29:39<05:04, 60.86s/it]"
     ]
    },
    {
     "name": "stdout",
     "output_type": "stream",
     "text": [
      "Processing layer 55...\n"
     ]
    },
    {
     "name": "stderr",
     "output_type": "stream",
     "text": [
      "Processing genes for layer 55: 100%|██████████| 495/495 [00:45<00:00, 10.85it/s]\n",
      "Processing layers:  93%|█████████▎| 56/60 [30:26<03:46, 56.71s/it]"
     ]
    },
    {
     "name": "stdout",
     "output_type": "stream",
     "text": [
      "Processing layer 56...\n"
     ]
    },
    {
     "name": "stderr",
     "output_type": "stream",
     "text": [
      "Processing genes for layer 56: 100%|██████████| 495/495 [00:01<00:00, 253.72it/s]\n",
      "Processing layers:  95%|█████████▌| 57/60 [30:28<02:00, 40.30s/it]"
     ]
    },
    {
     "name": "stdout",
     "output_type": "stream",
     "text": [
      "Processing layer 57...\n"
     ]
    },
    {
     "name": "stderr",
     "output_type": "stream",
     "text": [
      "Processing genes for layer 57: 100%|██████████| 495/495 [00:00<00:00, 13865.61it/s]\n"
     ]
    },
    {
     "name": "stdout",
     "output_type": "stream",
     "text": [
      "Processing layer 58...\n"
     ]
    },
    {
     "name": "stderr",
     "output_type": "stream",
     "text": [
      "Processing genes for layer 58: 100%|██████████| 495/495 [00:00<00:00, 8470.09it/s]\n",
      "Processing layers: 100%|██████████| 60/60 [30:28<00:00, 30.48s/it]\n"
     ]
    },
    {
     "name": "stdout",
     "output_type": "stream",
     "text": [
      "Processing layer 59...\n",
      "Warning: File ./genes_raw/transcripts_z_59.csv not found, skipping.\n"
     ]
    },
    {
     "name": "stderr",
     "output_type": "stream",
     "text": [
      "Saving genes to disk:   0%|          | 0/495 [00:00<?, ?it/s]"
     ]
    },
    {
     "name": "stdout",
     "output_type": "stream",
     "text": [
      "Saved C7H16orf87.json.gz (299.32 KB)\n",
      "Saved CU570769.1.json.gz (222.72 KB)\n",
      "Saved PCDH8.json.gz (38.19 KB)\n"
     ]
    },
    {
     "name": "stderr",
     "output_type": "stream",
     "text": [
      "Saving genes to disk:   1%|          | 4/495 [00:00<00:31, 15.67it/s]"
     ]
    },
    {
     "name": "stdout",
     "output_type": "stream",
     "text": [
      "Saved ackr3b.json.gz (903.84 KB)\n",
      "Saved acvr1ba.json.gz (2554.02 KB)\n"
     ]
    },
    {
     "name": "stderr",
     "output_type": "stream",
     "text": [
      "Saving genes to disk:   1%|          | 6/495 [00:01<02:31,  3.23it/s]"
     ]
    },
    {
     "name": "stdout",
     "output_type": "stream",
     "text": [
      "Saved add3b.json.gz (4876.65 KB)\n"
     ]
    },
    {
     "name": "stderr",
     "output_type": "stream",
     "text": [
      "Saving genes to disk:   2%|▏         | 8/495 [00:02<02:57,  2.74it/s]"
     ]
    },
    {
     "name": "stdout",
     "output_type": "stream",
     "text": [
      "Saved adka.json.gz (4147.20 KB)\n",
      "Saved admp.json.gz (1007.63 KB)\n"
     ]
    },
    {
     "name": "stderr",
     "output_type": "stream",
     "text": [
      "Saving genes to disk:   2%|▏         | 9/495 [00:02<02:29,  3.25it/s]"
     ]
    },
    {
     "name": "stdout",
     "output_type": "stream",
     "text": [
      "Saved ahi1.json.gz (881.86 KB)\n"
     ]
    },
    {
     "name": "stderr",
     "output_type": "stream",
     "text": [
      "Saving genes to disk:   2%|▏         | 10/495 [00:04<06:02,  1.34it/s]"
     ]
    },
    {
     "name": "stdout",
     "output_type": "stream",
     "text": [
      "Saved akap12b.json.gz (12906.26 KB)\n"
     ]
    },
    {
     "name": "stderr",
     "output_type": "stream",
     "text": [
      "Saving genes to disk:   2%|▏         | 11/495 [00:04<04:58,  1.62it/s]"
     ]
    },
    {
     "name": "stdout",
     "output_type": "stream",
     "text": [
      "Saved alcamb.json.gz (1581.42 KB)\n"
     ]
    },
    {
     "name": "stderr",
     "output_type": "stream",
     "text": [
      "Saving genes to disk:   2%|▏         | 12/495 [00:08<11:59,  1.49s/it]"
     ]
    },
    {
     "name": "stdout",
     "output_type": "stream",
     "text": [
      "Saved aldob.json.gz (24794.46 KB)\n"
     ]
    },
    {
     "name": "stderr",
     "output_type": "stream",
     "text": [
      "Saving genes to disk:   3%|▎         | 13/495 [00:09<11:45,  1.46s/it]"
     ]
    },
    {
     "name": "stdout",
     "output_type": "stream",
     "text": [
      "Saved anp32e.json.gz (9509.86 KB)\n",
      "Saved apex1.json.gz (168.64 KB)\n"
     ]
    },
    {
     "name": "stderr",
     "output_type": "stream",
     "text": [
      "Saving genes to disk:   3%|▎         | 16/495 [00:10<06:08,  1.30it/s]"
     ]
    },
    {
     "name": "stdout",
     "output_type": "stream",
     "text": [
      "Saved aplnra.json.gz (4229.33 KB)\n",
      "Saved aplnrb.json.gz (702.44 KB)\n",
      "Saved apoc1.json.gz (37.73 KB)\n"
     ]
    },
    {
     "name": "stderr",
     "output_type": "stream",
     "text": [
      "Saving genes to disk:   4%|▍         | 19/495 [00:11<03:54,  2.03it/s]"
     ]
    },
    {
     "name": "stdout",
     "output_type": "stream",
     "text": [
      "Saved arf5.json.gz (3743.21 KB)\n",
      "Saved arhgap5.json.gz (1012.91 KB)\n",
      "Saved arl4aa.json.gz (135.70 KB)\n"
     ]
    },
    {
     "name": "stderr",
     "output_type": "stream",
     "text": [
      "Saving genes to disk:   4%|▍         | 21/495 [00:11<02:32,  3.10it/s]"
     ]
    },
    {
     "name": "stdout",
     "output_type": "stream",
     "text": [
      "Saved arl4ab.json.gz (552.11 KB)\n"
     ]
    },
    {
     "name": "stderr",
     "output_type": "stream",
     "text": [
      "Saving genes to disk:   5%|▍         | 24/495 [00:12<01:38,  4.77it/s]"
     ]
    },
    {
     "name": "stdout",
     "output_type": "stream",
     "text": [
      "Saved arl4d.json.gz (1063.85 KB)\n",
      "Saved arl6ip5a.json.gz (254.37 KB)\n",
      "Saved aspm.json.gz (449.04 KB)\n"
     ]
    },
    {
     "name": "stderr",
     "output_type": "stream",
     "text": [
      "Saving genes to disk:   5%|▌         | 25/495 [00:12<01:43,  4.56it/s]"
     ]
    },
    {
     "name": "stdout",
     "output_type": "stream",
     "text": [
      "Saved atf6.json.gz (1510.87 KB)\n",
      "Saved atoh1c.json.gz (100.32 KB)\n"
     ]
    },
    {
     "name": "stderr",
     "output_type": "stream",
     "text": [
      "Saving genes to disk:   5%|▌         | 27/495 [00:13<02:41,  2.90it/s]"
     ]
    },
    {
     "name": "stdout",
     "output_type": "stream",
     "text": [
      "Saved atp2b1a.json.gz (6070.59 KB)\n"
     ]
    },
    {
     "name": "stderr",
     "output_type": "stream",
     "text": [
      "Saving genes to disk:   6%|▌         | 28/495 [00:14<03:23,  2.30it/s]"
     ]
    },
    {
     "name": "stdout",
     "output_type": "stream",
     "text": [
      "Saved atrxl.json.gz (4430.89 KB)\n"
     ]
    },
    {
     "name": "stderr",
     "output_type": "stream",
     "text": [
      "Saving genes to disk:   6%|▌         | 30/495 [00:14<02:40,  2.90it/s]"
     ]
    },
    {
     "name": "stdout",
     "output_type": "stream",
     "text": [
      "Saved aurkb.json.gz (2212.59 KB)\n",
      "Saved axin2.json.gz (679.77 KB)\n",
      "Saved bach1b.json.gz (188.88 KB)\n"
     ]
    },
    {
     "name": "stderr",
     "output_type": "stream",
     "text": [
      "Saving genes to disk:   6%|▋         | 32/495 [00:15<03:25,  2.25it/s]"
     ]
    },
    {
     "name": "stdout",
     "output_type": "stream",
     "text": [
      "Saved bambia.json.gz (6684.98 KB)\n"
     ]
    },
    {
     "name": "stderr",
     "output_type": "stream",
     "text": [
      "Saving genes to disk:   7%|▋         | 34/495 [00:16<02:33,  3.00it/s]"
     ]
    },
    {
     "name": "stdout",
     "output_type": "stream",
     "text": [
      "Saved baz1b.json.gz (1572.02 KB)\n",
      "Saved bcl2l1.json.gz (688.14 KB)\n",
      "Saved bhlha15.json.gz (216.57 KB)\n",
      "Saved blf.json.gz (243.44 KB)\n"
     ]
    },
    {
     "name": "stderr",
     "output_type": "stream",
     "text": [
      "Saving genes to disk:   8%|▊         | 38/495 [00:17<01:50,  4.15it/s]"
     ]
    },
    {
     "name": "stdout",
     "output_type": "stream",
     "text": [
      "Saved bmp2b.json.gz (3460.37 KB)\n",
      "Saved bmp4.json.gz (707.92 KB)\n"
     ]
    },
    {
     "name": "stderr",
     "output_type": "stream",
     "text": [
      "Saving genes to disk:   8%|▊         | 39/495 [00:17<02:18,  3.28it/s]"
     ]
    },
    {
     "name": "stdout",
     "output_type": "stream",
     "text": [
      "Saved bmp7a.json.gz (2883.09 KB)\n"
     ]
    },
    {
     "name": "stderr",
     "output_type": "stream",
     "text": [
      "Saving genes to disk:   8%|▊         | 40/495 [00:20<07:32,  1.00it/s]"
     ]
    },
    {
     "name": "stdout",
     "output_type": "stream",
     "text": [
      "Saved brd2a.json.gz (17169.75 KB)\n"
     ]
    },
    {
     "name": "stderr",
     "output_type": "stream",
     "text": [
      "Saving genes to disk:   8%|▊         | 41/495 [00:22<09:43,  1.28s/it]"
     ]
    },
    {
     "name": "stdout",
     "output_type": "stream",
     "text": [
      "Saved btg2.json.gz (11526.24 KB)\n"
     ]
    },
    {
     "name": "stderr",
     "output_type": "stream",
     "text": [
      "Saving genes to disk:   8%|▊         | 42/495 [00:23<07:39,  1.01s/it]"
     ]
    },
    {
     "name": "stdout",
     "output_type": "stream",
     "text": [
      "Saved c1qbp.json.gz (1573.62 KB)\n"
     ]
    },
    {
     "name": "stderr",
     "output_type": "stream",
     "text": [
      "Saving genes to disk:   9%|▊         | 43/495 [00:23<06:12,  1.21it/s]"
     ]
    },
    {
     "name": "stdout",
     "output_type": "stream",
     "text": [
      "Saved ca9.json.gz (1902.22 KB)\n",
      "Saved casz1.json.gz (389.44 KB)\n"
     ]
    },
    {
     "name": "stderr",
     "output_type": "stream",
     "text": [
      "Saving genes to disk:   9%|▉         | 45/495 [00:24<04:48,  1.56it/s]"
     ]
    },
    {
     "name": "stdout",
     "output_type": "stream",
     "text": [
      "Saved cbx3a.json.gz (4223.62 KB)\n"
     ]
    },
    {
     "name": "stderr",
     "output_type": "stream",
     "text": [
      "Saving genes to disk:   9%|▉         | 47/495 [00:25<04:18,  1.74it/s]"
     ]
    },
    {
     "name": "stdout",
     "output_type": "stream",
     "text": [
      "Saved cbx5.json.gz (5841.34 KB)\n",
      "Saved ccne2.json.gz (618.14 KB)\n"
     ]
    },
    {
     "name": "stderr",
     "output_type": "stream",
     "text": [
      "Saving genes to disk:  10%|▉         | 48/495 [00:25<03:42,  2.01it/s]"
     ]
    },
    {
     "name": "stdout",
     "output_type": "stream",
     "text": [
      "Saved ccnf.json.gz (1659.16 KB)\n"
     ]
    },
    {
     "name": "stderr",
     "output_type": "stream",
     "text": [
      "Saving genes to disk:  10%|▉         | 49/495 [00:28<08:55,  1.20s/it]"
     ]
    },
    {
     "name": "stdout",
     "output_type": "stream",
     "text": [
      "Saved ccng1.json.gz (16107.63 KB)\n",
      "Saved cd63.json.gz (376.57 KB)\n"
     ]
    },
    {
     "name": "stderr",
     "output_type": "stream",
     "text": [
      "Saving genes to disk:  10%|█         | 51/495 [00:29<06:19,  1.17it/s]"
     ]
    },
    {
     "name": "stdout",
     "output_type": "stream",
     "text": [
      "Saved cdc14b.json.gz (4413.06 KB)\n",
      "Saved cdc42ep4a.json.gz (184.29 KB)\n"
     ]
    },
    {
     "name": "stderr",
     "output_type": "stream",
     "text": [
      "Saving genes to disk:  11%|█         | 53/495 [00:30<04:26,  1.66it/s]"
     ]
    },
    {
     "name": "stdout",
     "output_type": "stream",
     "text": [
      "Saved cdca8.json.gz (2153.97 KB)\n"
     ]
    },
    {
     "name": "stderr",
     "output_type": "stream",
     "text": [
      "Saving genes to disk:  11%|█         | 54/495 [00:32<07:51,  1.07s/it]"
     ]
    },
    {
     "name": "stdout",
     "output_type": "stream",
     "text": [
      "Saved cdh1.json.gz (14965.63 KB)\n",
      "Saved cdh2.json.gz (366.71 KB)\n",
      "Saved cdh6.json.gz (180.96 KB)\n"
     ]
    },
    {
     "name": "stderr",
     "output_type": "stream",
     "text": [
      "Saving genes to disk:  12%|█▏        | 57/495 [00:33<04:35,  1.59it/s]"
     ]
    },
    {
     "name": "stdout",
     "output_type": "stream",
     "text": [
      "Saved cdkn1ca.json.gz (2145.99 KB)\n"
     ]
    },
    {
     "name": "stderr",
     "output_type": "stream",
     "text": [
      "Saving genes to disk:  12%|█▏        | 58/495 [00:37<08:55,  1.23s/it]"
     ]
    },
    {
     "name": "stdout",
     "output_type": "stream",
     "text": [
      "Saved cdt1.json.gz (20533.25 KB)\n",
      "Saved cdx1a.json.gz (116.46 KB)\n",
      "Saved cdx4.json.gz (330.37 KB)\n"
     ]
    },
    {
     "name": "stderr",
     "output_type": "stream",
     "text": [
      "Saving genes to disk:  12%|█▏        | 61/495 [00:37<05:31,  1.31it/s]"
     ]
    },
    {
     "name": "stdout",
     "output_type": "stream",
     "text": [
      "Saved cenpf.json.gz (2786.47 KB)\n"
     ]
    },
    {
     "name": "stderr",
     "output_type": "stream",
     "text": [
      "Saving genes to disk:  13%|█▎        | 62/495 [00:37<04:49,  1.49it/s]"
     ]
    },
    {
     "name": "stdout",
     "output_type": "stream",
     "text": [
      "Saved cfl1l.json.gz (1320.87 KB)\n"
     ]
    },
    {
     "name": "stderr",
     "output_type": "stream",
     "text": [
      "Saving genes to disk:  13%|█▎        | 63/495 [00:38<04:37,  1.56it/s]"
     ]
    },
    {
     "name": "stdout",
     "output_type": "stream",
     "text": [
      "Saved chaf1a.json.gz (3034.16 KB)\n"
     ]
    },
    {
     "name": "stderr",
     "output_type": "stream",
     "text": [
      "Saving genes to disk:  13%|█▎        | 65/495 [00:39<03:30,  2.05it/s]"
     ]
    },
    {
     "name": "stdout",
     "output_type": "stream",
     "text": [
      "Saved chrd.json.gz (2104.77 KB)\n",
      "Saved chst11.json.gz (605.78 KB)\n"
     ]
    },
    {
     "name": "stderr",
     "output_type": "stream",
     "text": [
      "Saving genes to disk:  13%|█▎        | 66/495 [00:39<04:02,  1.77it/s]"
     ]
    },
    {
     "name": "stdout",
     "output_type": "stream",
     "text": [
      "Saved cldnd.json.gz (4414.70 KB)\n"
     ]
    },
    {
     "name": "stderr",
     "output_type": "stream",
     "text": [
      "Saving genes to disk:  14%|█▎        | 67/495 [00:40<03:23,  2.10it/s]"
     ]
    },
    {
     "name": "stdout",
     "output_type": "stream",
     "text": [
      "Saved clic4.json.gz (1375.64 KB)\n",
      "Saved clocka.json.gz (297.94 KB)\n"
     ]
    },
    {
     "name": "stderr",
     "output_type": "stream",
     "text": [
      "Saving genes to disk:  14%|█▍        | 71/495 [00:40<01:33,  4.54it/s]"
     ]
    },
    {
     "name": "stdout",
     "output_type": "stream",
     "text": [
      "Saved cmtm6.json.gz (1128.49 KB)\n",
      "Saved cnmd.json.gz (215.50 KB)\n",
      "Saved cnn3a.json.gz (494.46 KB)\n",
      "Saved coq10b.json.gz (356.04 KB)\n"
     ]
    },
    {
     "name": "stderr",
     "output_type": "stream",
     "text": [
      "Saving genes to disk:  15%|█▌        | 75/495 [00:40<01:03,  6.61it/s]"
     ]
    },
    {
     "name": "stdout",
     "output_type": "stream",
     "text": [
      "Saved crabp2b.json.gz (1652.98 KB)\n",
      "Saved creb3l1.json.gz (139.50 KB)\n",
      "Saved creb3l2.json.gz (499.67 KB)\n"
     ]
    },
    {
     "name": "stderr",
     "output_type": "stream",
     "text": [
      "Saving genes to disk:  16%|█▌        | 77/495 [00:41<00:59,  7.04it/s]"
     ]
    },
    {
     "name": "stdout",
     "output_type": "stream",
     "text": [
      "Saved csrp1a.json.gz (995.72 KB)\n",
      "Saved cst3.json.gz (500.13 KB)\n",
      "Saved ctcf.json.gz (37913.97 KB)\n"
     ]
    },
    {
     "name": "stderr",
     "output_type": "stream",
     "text": [
      "Saving genes to disk:  16%|█▌        | 79/495 [00:49<09:34,  1.38s/it]"
     ]
    },
    {
     "name": "stdout",
     "output_type": "stream",
     "text": [
      "Saved cth1.json.gz (5475.10 KB)\n",
      "Saved cux1a.json.gz (278.03 KB)\n",
      "Saved cxcl12b.json.gz (116.80 KB)\n"
     ]
    },
    {
     "name": "stderr",
     "output_type": "stream",
     "text": [
      "Saving genes to disk:  17%|█▋        | 82/495 [00:49<06:11,  1.11it/s]"
     ]
    },
    {
     "name": "stdout",
     "output_type": "stream",
     "text": [
      "Saved cxcr4a.json.gz (2819.80 KB)\n"
     ]
    },
    {
     "name": "stderr",
     "output_type": "stream",
     "text": [
      "Saving genes to disk:  17%|█▋        | 84/495 [00:50<04:59,  1.37it/s]"
     ]
    },
    {
     "name": "stdout",
     "output_type": "stream",
     "text": [
      "Saved dact2.json.gz (3952.57 KB)\n",
      "Saved dand5.json.gz (265.11 KB)\n",
      "Saved dbx1a.json.gz (77.28 KB)\n"
     ]
    },
    {
     "name": "stderr",
     "output_type": "stream",
     "text": [
      "Saving genes to disk:  17%|█▋        | 86/495 [00:51<03:39,  1.86it/s]"
     ]
    },
    {
     "name": "stdout",
     "output_type": "stream",
     "text": [
      "Saved ddx4.json.gz (2285.23 KB)\n",
      "Saved dharma.json.gz (295.31 KB)\n"
     ]
    },
    {
     "name": "stderr",
     "output_type": "stream",
     "text": [
      "Saving genes to disk:  18%|█▊        | 90/495 [00:54<04:03,  1.66it/s]"
     ]
    },
    {
     "name": "stdout",
     "output_type": "stream",
     "text": [
      "Saved dkc1.json.gz (15782.81 KB)\n",
      "Saved dkk1b.json.gz (288.44 KB)\n",
      "Saved dld.json.gz (479.92 KB)\n"
     ]
    },
    {
     "name": "stderr",
     "output_type": "stream",
     "text": [
      "Saving genes to disk:  19%|█▉        | 93/495 [00:56<03:45,  1.78it/s]"
     ]
    },
    {
     "name": "stdout",
     "output_type": "stream",
     "text": [
      "Saved dlgap5.json.gz (10143.14 KB)\n",
      "Saved dlx3b.json.gz (519.75 KB)\n",
      "Saved dmd.json.gz (117.78 KB)\n"
     ]
    },
    {
     "name": "stderr",
     "output_type": "stream",
     "text": [
      "Saving genes to disk:  19%|█▉        | 94/495 [00:56<03:12,  2.08it/s]"
     ]
    },
    {
     "name": "stdout",
     "output_type": "stream",
     "text": [
      "Saved dnmt3bb.2.json.gz (938.62 KB)\n"
     ]
    },
    {
     "name": "stderr",
     "output_type": "stream",
     "text": [
      "Saving genes to disk:  19%|█▉        | 96/495 [00:56<02:32,  2.62it/s]"
     ]
    },
    {
     "name": "stdout",
     "output_type": "stream",
     "text": [
      "Saved drll.2.json.gz (2159.76 KB)\n",
      "Saved drll.3.json.gz (951.89 KB)\n",
      "Saved dscc1.json.gz (156.45 KB)\n"
     ]
    },
    {
     "name": "stderr",
     "output_type": "stream",
     "text": [
      "Saving genes to disk:  20%|██        | 99/495 [00:56<01:27,  4.53it/s]"
     ]
    },
    {
     "name": "stdout",
     "output_type": "stream",
     "text": [
      "Saved dync1li1.json.gz (330.35 KB)\n",
      "Saved dynll1.json.gz (728.72 KB)\n"
     ]
    },
    {
     "name": "stderr",
     "output_type": "stream",
     "text": [
      "Saving genes to disk:  21%|██        | 102/495 [00:57<01:02,  6.33it/s]"
     ]
    },
    {
     "name": "stdout",
     "output_type": "stream",
     "text": [
      "Saved dynll2b.json.gz (837.48 KB)\n",
      "Saved ednraa.json.gz (124.50 KB)\n",
      "Saved efemp2b.json.gz (761.58 KB)\n"
     ]
    },
    {
     "name": "stderr",
     "output_type": "stream",
     "text": [
      "Saving genes to disk:  21%|██        | 104/495 [00:57<00:47,  8.15it/s]"
     ]
    },
    {
     "name": "stdout",
     "output_type": "stream",
     "text": [
      "Saved efna1a.json.gz (367.89 KB)\n",
      "Saved efnb2a.json.gz (283.97 KB)\n",
      "Saved efnb2b.json.gz (414.47 KB)\n"
     ]
    },
    {
     "name": "stderr",
     "output_type": "stream",
     "text": [
      "Saving genes to disk:  21%|██▏       | 106/495 [00:57<00:55,  7.06it/s]"
     ]
    },
    {
     "name": "stdout",
     "output_type": "stream",
     "text": [
      "Saved egln1b.json.gz (1372.35 KB)\n"
     ]
    },
    {
     "name": "stderr",
     "output_type": "stream",
     "text": [
      "Saving genes to disk:  22%|██▏       | 108/495 [00:58<01:08,  5.67it/s]"
     ]
    },
    {
     "name": "stdout",
     "output_type": "stream",
     "text": [
      "Saved eif3ea.json.gz (2519.43 KB)\n",
      "Saved elavl3.json.gz (416.82 KB)\n"
     ]
    },
    {
     "name": "stderr",
     "output_type": "stream",
     "text": [
      "Saving genes to disk:  23%|██▎       | 112/495 [00:58<00:55,  6.95it/s]"
     ]
    },
    {
     "name": "stdout",
     "output_type": "stream",
     "text": [
      "Saved elf1.json.gz (2520.60 KB)\n",
      "Saved elob.json.gz (266.30 KB)\n",
      "Saved emid1.json.gz (272.71 KB)\n",
      "Saved emx2.json.gz (221.30 KB)\n",
      "Saved emx3.json.gz (441.78 KB)\n"
     ]
    },
    {
     "name": "stderr",
     "output_type": "stream",
     "text": [
      "Saving genes to disk:  23%|██▎       | 114/495 [00:58<00:48,  7.85it/s]"
     ]
    },
    {
     "name": "stdout",
     "output_type": "stream",
     "text": [
      "Saved epcam.json.gz (584.15 KB)\n"
     ]
    },
    {
     "name": "stderr",
     "output_type": "stream",
     "text": [
      "Saving genes to disk:  24%|██▎       | 117/495 [00:59<01:06,  5.71it/s]"
     ]
    },
    {
     "name": "stdout",
     "output_type": "stream",
     "text": [
      "Saved epha2a.json.gz (3326.18 KB)\n",
      "Saved ephb3a.json.gz (375.56 KB)\n",
      "Saved eppk1.json.gz (708.17 KB)\n"
     ]
    },
    {
     "name": "stderr",
     "output_type": "stream",
     "text": [
      "Saving genes to disk:  24%|██▍       | 119/495 [01:00<01:38,  3.80it/s]"
     ]
    },
    {
     "name": "stdout",
     "output_type": "stream",
     "text": [
      "Saved erf.json.gz (4723.11 KB)\n",
      "Saved esrra.json.gz (664.73 KB)\n"
     ]
    },
    {
     "name": "stderr",
     "output_type": "stream",
     "text": [
      "Saving genes to disk:  24%|██▍       | 120/495 [01:00<01:39,  3.77it/s]"
     ]
    },
    {
     "name": "stdout",
     "output_type": "stream",
     "text": [
      "Saved ets2.json.gz (1546.26 KB)\n",
      "Saved etv2.json.gz (105.35 KB)\n"
     ]
    },
    {
     "name": "stderr",
     "output_type": "stream",
     "text": [
      "Saving genes to disk:  25%|██▍       | 122/495 [01:02<02:33,  2.44it/s]"
     ]
    },
    {
     "name": "stdout",
     "output_type": "stream",
     "text": [
      "Saved etv4.json.gz (6622.41 KB)\n"
     ]
    },
    {
     "name": "stderr",
     "output_type": "stream",
     "text": [
      "Saving genes to disk:  25%|██▍       | 123/495 [01:02<02:46,  2.24it/s]"
     ]
    },
    {
     "name": "stdout",
     "output_type": "stream",
     "text": [
      "Saved etv5a.json.gz (2923.78 KB)\n"
     ]
    },
    {
     "name": "stderr",
     "output_type": "stream",
     "text": [
      "Saving genes to disk:  25%|██▌       | 125/495 [01:04<03:44,  1.65it/s]"
     ]
    },
    {
     "name": "stdout",
     "output_type": "stream",
     "text": [
      "Saved etv5b.json.gz (9690.03 KB)\n",
      "Saved eve1.json.gz (792.07 KB)\n"
     ]
    },
    {
     "name": "stderr",
     "output_type": "stream",
     "text": [
      "Saving genes to disk:  26%|██▌       | 127/495 [01:04<02:23,  2.57it/s]"
     ]
    },
    {
     "name": "stdout",
     "output_type": "stream",
     "text": [
      "Saved f11r.1.json.gz (1190.87 KB)\n",
      "Saved fbln2.json.gz (654.17 KB)\n",
      "Saved fezf2.json.gz (87.84 KB)\n"
     ]
    },
    {
     "name": "stderr",
     "output_type": "stream",
     "text": [
      "Saving genes to disk:  26%|██▋       | 130/495 [01:05<01:30,  4.02it/s]"
     ]
    },
    {
     "name": "stdout",
     "output_type": "stream",
     "text": [
      "Saved fgf8a.json.gz (1487.69 KB)\n",
      "Saved flrt3.json.gz (1007.67 KB)\n"
     ]
    },
    {
     "name": "stderr",
     "output_type": "stream",
     "text": [
      "Saving genes to disk:  26%|██▋       | 131/495 [01:05<01:25,  4.25it/s]"
     ]
    },
    {
     "name": "stdout",
     "output_type": "stream",
     "text": [
      "Saved fn1a.json.gz (1182.71 KB)\n",
      "Saved fn1b.json.gz (346.85 KB)\n"
     ]
    },
    {
     "name": "stderr",
     "output_type": "stream",
     "text": [
      "Saving genes to disk:  27%|██▋       | 135/495 [01:06<01:22,  4.36it/s]"
     ]
    },
    {
     "name": "stdout",
     "output_type": "stream",
     "text": [
      "Saved fnbp1l.json.gz (4298.64 KB)\n",
      "Saved fosab.json.gz (164.65 KB)\n",
      "Saved foxa.json.gz (944.54 KB)\n",
      "Saved foxa2.json.gz (466.46 KB)\n"
     ]
    },
    {
     "name": "stderr",
     "output_type": "stream",
     "text": [
      "Saving genes to disk:  28%|██▊       | 138/495 [01:07<01:54,  3.12it/s]"
     ]
    },
    {
     "name": "stdout",
     "output_type": "stream",
     "text": [
      "Saved foxa3.json.gz (6270.88 KB)\n",
      "Saved foxb1a.json.gz (605.13 KB)\n",
      "Saved foxb1b.json.gz (91.36 KB)\n",
      "Saved foxc1a.json.gz (400.55 KB)\n"
     ]
    },
    {
     "name": "stderr",
     "output_type": "stream",
     "text": [
      "Saving genes to disk:  28%|██▊       | 141/495 [01:08<01:09,  5.06it/s]"
     ]
    },
    {
     "name": "stdout",
     "output_type": "stream",
     "text": [
      "Saved foxc1b.json.gz (477.28 KB)\n"
     ]
    },
    {
     "name": "stderr",
     "output_type": "stream",
     "text": [
      "Saving genes to disk:  29%|██▊       | 142/495 [01:08<01:34,  3.74it/s]"
     ]
    },
    {
     "name": "stdout",
     "output_type": "stream",
     "text": [
      "Saved foxd3.json.gz (2755.34 KB)\n"
     ]
    },
    {
     "name": "stderr",
     "output_type": "stream",
     "text": [
      "Saving genes to disk:  29%|██▉       | 143/495 [01:09<02:14,  2.63it/s]"
     ]
    },
    {
     "name": "stdout",
     "output_type": "stream",
     "text": [
      "Saved foxd5.json.gz (4586.37 KB)\n",
      "Saved foxg1a.json.gz (130.51 KB)\n"
     ]
    },
    {
     "name": "stderr",
     "output_type": "stream",
     "text": [
      "Saving genes to disk:  29%|██▉       | 145/495 [01:10<02:49,  2.07it/s]"
     ]
    },
    {
     "name": "stdout",
     "output_type": "stream",
     "text": [
      "Saved foxh1.json.gz (7205.29 KB)\n",
      "Saved foxi1.json.gz (217.04 KB)\n"
     ]
    },
    {
     "name": "stderr",
     "output_type": "stream",
     "text": [
      "Saving genes to disk:  30%|██▉       | 147/495 [01:11<02:14,  2.60it/s]"
     ]
    },
    {
     "name": "stdout",
     "output_type": "stream",
     "text": [
      "Saved foxn2b.json.gz (2108.61 KB)\n",
      "Saved foxo1a.json.gz (53.54 KB)\n",
      "Saved foxp1b.json.gz (531.90 KB)\n"
     ]
    },
    {
     "name": "stderr",
     "output_type": "stream",
     "text": [
      "Saving genes to disk:  31%|███       | 151/495 [01:11<01:24,  4.08it/s]"
     ]
    },
    {
     "name": "stdout",
     "output_type": "stream",
     "text": [
      "Saved foxp2.json.gz (1420.86 KB)\n",
      "Saved frmd4ba.json.gz (754.87 KB)\n"
     ]
    },
    {
     "name": "stderr",
     "output_type": "stream",
     "text": [
      "Saving genes to disk:  31%|███       | 152/495 [01:15<05:51,  1.02s/it]"
     ]
    },
    {
     "name": "stdout",
     "output_type": "stream",
     "text": [
      "Saved fscn1a.json.gz (22128.41 KB)\n"
     ]
    },
    {
     "name": "stderr",
     "output_type": "stream",
     "text": [
      "Saving genes to disk:  31%|███       | 154/495 [01:16<04:18,  1.32it/s]"
     ]
    },
    {
     "name": "stdout",
     "output_type": "stream",
     "text": [
      "Saved fzd7a.json.gz (3445.43 KB)\n",
      "Saved fzd7b.json.gz (1183.43 KB)\n"
     ]
    },
    {
     "name": "stderr",
     "output_type": "stream",
     "text": [
      "Saving genes to disk:  32%|███▏      | 156/495 [01:17<03:01,  1.86it/s]"
     ]
    },
    {
     "name": "stdout",
     "output_type": "stream",
     "text": [
      "Saved fzd8a.json.gz (2185.42 KB)\n",
      "Saved gadd45gip1.json.gz (1073.34 KB)\n"
     ]
    },
    {
     "name": "stderr",
     "output_type": "stream",
     "text": [
      "Saving genes to disk:  32%|███▏      | 157/495 [01:17<02:52,  1.96it/s]"
     ]
    },
    {
     "name": "stdout",
     "output_type": "stream",
     "text": [
      "Saved gapdh.json.gz (2210.74 KB)\n"
     ]
    },
    {
     "name": "stderr",
     "output_type": "stream",
     "text": [
      "Saving genes to disk:  32%|███▏      | 160/495 [01:18<01:34,  3.56it/s]"
     ]
    },
    {
     "name": "stdout",
     "output_type": "stream",
     "text": [
      "Saved gata2a.json.gz (2007.75 KB)\n",
      "Saved gata3.json.gz (233.79 KB)\n",
      "Saved gata5.json.gz (425.41 KB)\n"
     ]
    },
    {
     "name": "stderr",
     "output_type": "stream",
     "text": [
      "Saving genes to disk:  33%|███▎      | 164/495 [01:18<00:49,  6.71it/s]"
     ]
    },
    {
     "name": "stdout",
     "output_type": "stream",
     "text": [
      "Saved gata6.json.gz (1035.81 KB)\n",
      "Saved gbx1.json.gz (480.31 KB)\n",
      "Saved gcm2.json.gz (52.36 KB)\n",
      "Saved gfi1aa.json.gz (287.15 KB)\n",
      "Saved gli1.json.gz (248.94 KB)\n"
     ]
    },
    {
     "name": "stderr",
     "output_type": "stream",
     "text": [
      "Saving genes to disk:  34%|███▎      | 166/495 [01:18<00:41,  8.00it/s]"
     ]
    },
    {
     "name": "stdout",
     "output_type": "stream",
     "text": [
      "Saved gli2a.json.gz (664.60 KB)\n"
     ]
    },
    {
     "name": "stderr",
     "output_type": "stream",
     "text": [
      "Saving genes to disk:  34%|███▍      | 168/495 [01:19<01:26,  3.78it/s]"
     ]
    },
    {
     "name": "stdout",
     "output_type": "stream",
     "text": [
      "Saved gmnn.json.gz (5860.68 KB)\n",
      "Saved gpr137bb.json.gz (526.11 KB)\n"
     ]
    },
    {
     "name": "stderr",
     "output_type": "stream",
     "text": [
      "Saving genes to disk:  35%|███▍      | 171/495 [01:20<01:07,  4.80it/s]"
     ]
    },
    {
     "name": "stdout",
     "output_type": "stream",
     "text": [
      "Saved grhl1.json.gz (2072.32 KB)\n",
      "Saved grhl2b.json.gz (328.13 KB)\n",
      "Saved gsc.json.gz (395.78 KB)\n",
      "Saved h1-0.json.gz (563.39 KB)\n"
     ]
    },
    {
     "name": "stderr",
     "output_type": "stream",
     "text": [
      "Saving genes to disk:  35%|███▍      | 173/495 [01:22<02:39,  2.02it/s]"
     ]
    },
    {
     "name": "stdout",
     "output_type": "stream",
     "text": [
      "Saved hdlbpa.json.gz (11218.40 KB)\n"
     ]
    },
    {
     "name": "stderr",
     "output_type": "stream",
     "text": [
      "Saving genes to disk:  36%|███▌      | 177/495 [01:22<01:27,  3.61it/s]"
     ]
    },
    {
     "name": "stdout",
     "output_type": "stream",
     "text": [
      "Saved helb.json.gz (1929.16 KB)\n",
      "Saved hells.json.gz (299.46 KB)\n",
      "Saved her1.json.gz (243.70 KB)\n",
      "Saved her11.json.gz (352.15 KB)\n",
      "Saved her12.json.gz (274.44 KB)\n"
     ]
    },
    {
     "name": "stderr",
     "output_type": "stream",
     "text": [
      "Saving genes to disk:  36%|███▌      | 179/495 [01:23<01:09,  4.55it/s]"
     ]
    },
    {
     "name": "stdout",
     "output_type": "stream",
     "text": [
      "Saved her2.json.gz (392.88 KB)\n",
      "Saved her3.json.gz (95.25 KB)\n"
     ]
    },
    {
     "name": "stderr",
     "output_type": "stream",
     "text": [
      "Saving genes to disk:  37%|███▋      | 182/495 [01:23<01:02,  5.01it/s]"
     ]
    },
    {
     "name": "stdout",
     "output_type": "stream",
     "text": [
      "Saved her5.json.gz (1861.50 KB)\n",
      "Saved her6.json.gz (1028.77 KB)\n",
      "Saved her7.json.gz (88.98 KB)\n"
     ]
    },
    {
     "name": "stderr",
     "output_type": "stream",
     "text": [
      "Saving genes to disk:  37%|███▋      | 184/495 [01:23<00:56,  5.52it/s]"
     ]
    },
    {
     "name": "stdout",
     "output_type": "stream",
     "text": [
      "Saved her8a.json.gz (1614.34 KB)\n",
      "Saved her9.json.gz (223.53 KB)\n",
      "Saved hes6.json.gz (349.05 KB)\n"
     ]
    },
    {
     "name": "stderr",
     "output_type": "stream",
     "text": [
      "Saving genes to disk:  38%|███▊      | 189/495 [01:24<00:44,  6.89it/s]"
     ]
    },
    {
     "name": "stdout",
     "output_type": "stream",
     "text": [
      "Saved hesx1.json.gz (2640.98 KB)\n",
      "Saved hic1l.json.gz (511.21 KB)\n",
      "Saved higd1a.json.gz (128.05 KB)\n",
      "Saved hivep2a.json.gz (326.43 KB)\n",
      "Saved hoxb1b.json.gz (54.91 KB)\n",
      "Saved hoxb7a.json.gz (183.03 KB)\n"
     ]
    },
    {
     "name": "stderr",
     "output_type": "stream",
     "text": [
      "Saving genes to disk:  40%|███▉      | 196/495 [01:24<00:23, 12.63it/s]"
     ]
    },
    {
     "name": "stdout",
     "output_type": "stream",
     "text": [
      "Saved hoxb8a.json.gz (184.93 KB)\n",
      "Saved hoxb9a.json.gz (216.55 KB)\n",
      "Saved hoxc3a.json.gz (270.90 KB)\n",
      "Saved hoxc6a.json.gz (386.34 KB)\n",
      "Saved hoxc8a.json.gz (65.80 KB)\n"
     ]
    },
    {
     "name": "stderr",
     "output_type": "stream",
     "text": [
      "Saving genes to disk:  40%|████      | 199/495 [01:25<00:19, 14.91it/s]"
     ]
    },
    {
     "name": "stdout",
     "output_type": "stream",
     "text": [
      "Saved hsp90aa1.2.json.gz (414.18 KB)\n",
      "Saved id3.json.gz (282.14 KB)\n"
     ]
    },
    {
     "name": "stderr",
     "output_type": "stream",
     "text": [
      "Saving genes to disk:  41%|████      | 201/495 [01:25<00:37,  7.87it/s]"
     ]
    },
    {
     "name": "stdout",
     "output_type": "stream",
     "text": [
      "Saved igf2bp1.json.gz (3498.61 KB)\n",
      "Saved igfbp1a.json.gz (252.26 KB)\n",
      "Saved irf2a.json.gz (770.31 KB)\n"
     ]
    },
    {
     "name": "stderr",
     "output_type": "stream",
     "text": [
      "Saving genes to disk:  41%|████▏     | 205/495 [01:25<00:30,  9.40it/s]"
     ]
    },
    {
     "name": "stdout",
     "output_type": "stream",
     "text": [
      "Saved irx1b.json.gz (280.75 KB)\n",
      "Saved irx3a.json.gz (345.30 KB)\n",
      "Saved irx5a.json.gz (551.34 KB)\n"
     ]
    },
    {
     "name": "stderr",
     "output_type": "stream",
     "text": [
      "Saving genes to disk:  42%|████▏     | 207/495 [01:26<00:36,  7.97it/s]"
     ]
    },
    {
     "name": "stdout",
     "output_type": "stream",
     "text": [
      "Saved irx7.json.gz (1146.76 KB)\n",
      "Saved ism1.json.gz (950.50 KB)\n",
      "Saved itga6a.json.gz (206.53 KB)\n"
     ]
    },
    {
     "name": "stderr",
     "output_type": "stream",
     "text": [
      "Saving genes to disk:  42%|████▏     | 210/495 [01:26<00:39,  7.21it/s]"
     ]
    },
    {
     "name": "stdout",
     "output_type": "stream",
     "text": [
      "Saved itgb5.json.gz (1505.39 KB)\n",
      "Saved itm2cb.json.gz (821.00 KB)\n",
      "Saved jcada.json.gz (254.42 KB)\n"
     ]
    },
    {
     "name": "stderr",
     "output_type": "stream",
     "text": [
      "Saving genes to disk:  43%|████▎     | 214/495 [01:27<00:30,  9.08it/s]"
     ]
    },
    {
     "name": "stdout",
     "output_type": "stream",
     "text": [
      "Saved kank1a.json.gz (926.97 KB)\n",
      "Saved kazald2.json.gz (564.53 KB)\n",
      "Saved kdrl.json.gz (348.21 KB)\n",
      "Saved kif15.json.gz (221.15 KB)\n"
     ]
    },
    {
     "name": "stderr",
     "output_type": "stream",
     "text": [
      "Saving genes to disk:  44%|████▍     | 217/495 [01:27<00:22, 12.15it/s]"
     ]
    },
    {
     "name": "stdout",
     "output_type": "stream",
     "text": [
      "Saved kirrel3l.json.gz (308.55 KB)\n",
      "Saved klf17.json.gz (193.98 KB)\n",
      "Saved klf2a.json.gz (2143.09 KB)\n"
     ]
    },
    {
     "name": "stderr",
     "output_type": "stream",
     "text": [
      "Saving genes to disk:  45%|████▍     | 221/495 [01:28<00:38,  7.09it/s]"
     ]
    },
    {
     "name": "stdout",
     "output_type": "stream",
     "text": [
      "Saved klf2b.json.gz (2104.90 KB)\n",
      "Saved klf3.json.gz (800.90 KB)\n",
      "Saved klf7a.json.gz (258.49 KB)\n"
     ]
    },
    {
     "name": "stderr",
     "output_type": "stream",
     "text": [
      "Saving genes to disk:  45%|████▌     | 223/495 [01:28<00:45,  5.96it/s]"
     ]
    },
    {
     "name": "stdout",
     "output_type": "stream",
     "text": [
      "Saved klf8.json.gz (2296.97 KB)\n",
      "Saved kmt2bb.json.gz (419.97 KB)\n"
     ]
    },
    {
     "name": "stderr",
     "output_type": "stream",
     "text": [
      "Saving genes to disk:  45%|████▌     | 224/495 [01:29<01:27,  3.09it/s]"
     ]
    },
    {
     "name": "stdout",
     "output_type": "stream",
     "text": [
      "Saved kmt5aa.json.gz (6043.89 KB)\n"
     ]
    },
    {
     "name": "stderr",
     "output_type": "stream",
     "text": [
      "Saving genes to disk:  45%|████▌     | 225/495 [01:31<02:37,  1.72it/s]"
     ]
    },
    {
     "name": "stdout",
     "output_type": "stream",
     "text": [
      "Saved krt18a.1.json.gz (11025.62 KB)\n"
     ]
    },
    {
     "name": "stderr",
     "output_type": "stream",
     "text": [
      "Saving genes to disk:  46%|████▌     | 226/495 [01:32<03:24,  1.31it/s]"
     ]
    },
    {
     "name": "stdout",
     "output_type": "stream",
     "text": [
      "Saved krt4.json.gz (9807.81 KB)\n"
     ]
    },
    {
     "name": "stderr",
     "output_type": "stream",
     "text": [
      "Saving genes to disk:  46%|████▌     | 227/495 [01:34<04:25,  1.01it/s]"
     ]
    },
    {
     "name": "stdout",
     "output_type": "stream",
     "text": [
      "Saved krt8.json.gz (11723.94 KB)\n",
      "Saved krt99.json.gz (358.91 KB)\n"
     ]
    },
    {
     "name": "stderr",
     "output_type": "stream",
     "text": [
      "Saving genes to disk:  46%|████▋     | 229/495 [01:34<02:57,  1.50it/s]"
     ]
    },
    {
     "name": "stdout",
     "output_type": "stream",
     "text": [
      "Saved lamb1a.json.gz (1928.98 KB)\n"
     ]
    },
    {
     "name": "stderr",
     "output_type": "stream",
     "text": [
      "Saving genes to disk:  46%|████▋     | 230/495 [01:35<02:51,  1.55it/s]"
     ]
    },
    {
     "name": "stdout",
     "output_type": "stream",
     "text": [
      "Saved lamc1.json.gz (3247.74 KB)\n"
     ]
    },
    {
     "name": "stderr",
     "output_type": "stream",
     "text": [
      "Saving genes to disk:  47%|████▋     | 233/495 [01:39<03:51,  1.13it/s]"
     ]
    },
    {
     "name": "stdout",
     "output_type": "stream",
     "text": [
      "Saved lamp2.json.gz (21525.01 KB)\n",
      "Saved lbx2.json.gz (151.77 KB)\n",
      "Saved lef1.json.gz (489.99 KB)\n"
     ]
    },
    {
     "name": "stderr",
     "output_type": "stream",
     "text": [
      "Saving genes to disk:  47%|████▋     | 235/495 [01:39<02:30,  1.73it/s]"
     ]
    },
    {
     "name": "stdout",
     "output_type": "stream",
     "text": [
      "Saved lft1.json.gz (638.15 KB)\n",
      "Saved lft2.json.gz (1068.63 KB)\n"
     ]
    },
    {
     "name": "stderr",
     "output_type": "stream",
     "text": [
      "Saving genes to disk:  48%|████▊     | 238/495 [01:40<01:22,  3.11it/s]"
     ]
    },
    {
     "name": "stdout",
     "output_type": "stream",
     "text": [
      "Saved lgals3b.json.gz (304.78 KB)\n",
      "Saved lhfpl6.json.gz (150.57 KB)\n",
      "Saved lhx1a.json.gz (886.44 KB)\n",
      "Saved lhx5.json.gz (392.44 KB)\n"
     ]
    },
    {
     "name": "stderr",
     "output_type": "stream",
     "text": [
      "Saving genes to disk:  48%|████▊     | 240/495 [01:40<01:23,  3.04it/s]"
     ]
    },
    {
     "name": "stdout",
     "output_type": "stream",
     "text": [
      "Saved lima1a.json.gz (3584.47 KB)\n"
     ]
    },
    {
     "name": "stderr",
     "output_type": "stream",
     "text": [
      "Saving genes to disk:  49%|████▉     | 243/495 [01:43<02:12,  1.90it/s]"
     ]
    },
    {
     "name": "stdout",
     "output_type": "stream",
     "text": [
      "Saved lmnb1.json.gz (14523.71 KB)\n",
      "Saved lmo2.json.gz (426.88 KB)\n",
      "Saved lmo4a.json.gz (438.62 KB)\n",
      "Saved lratb.1.json.gz (303.83 KB)\n"
     ]
    },
    {
     "name": "stderr",
     "output_type": "stream",
     "text": [
      "Saving genes to disk:  49%|████▉     | 245/495 [01:43<01:36,  2.59it/s]"
     ]
    },
    {
     "name": "stdout",
     "output_type": "stream",
     "text": [
      "Saved lratd1.json.gz (576.89 KB)\n",
      "Saved mab21l2.json.gz (198.42 KB)\n"
     ]
    },
    {
     "name": "stderr",
     "output_type": "stream",
     "text": [
      "Saving genes to disk:  50%|████▉     | 247/495 [01:45<01:59,  2.07it/s]"
     ]
    },
    {
     "name": "stdout",
     "output_type": "stream",
     "text": [
      "Saved mad1l1.json.gz (7485.51 KB)\n"
     ]
    },
    {
     "name": "stderr",
     "output_type": "stream",
     "text": [
      "Saving genes to disk:  50%|█████     | 248/495 [01:45<01:48,  2.28it/s]"
     ]
    },
    {
     "name": "stdout",
     "output_type": "stream",
     "text": [
      "Saved map1lc3b.json.gz (1443.58 KB)\n"
     ]
    },
    {
     "name": "stderr",
     "output_type": "stream",
     "text": [
      "Saving genes to disk:  50%|█████     | 249/495 [01:45<01:38,  2.50it/s]"
     ]
    },
    {
     "name": "stdout",
     "output_type": "stream",
     "text": [
      "Saved map2k6.json.gz (1503.65 KB)\n",
      "Saved mcama.json.gz (336.87 KB)\n"
     ]
    },
    {
     "name": "stderr",
     "output_type": "stream",
     "text": [
      "Saving genes to disk:  51%|█████     | 251/495 [01:46<01:29,  2.73it/s]"
     ]
    },
    {
     "name": "stdout",
     "output_type": "stream",
     "text": [
      "Saved mcm2.json.gz (3250.45 KB)\n"
     ]
    },
    {
     "name": "stderr",
     "output_type": "stream",
     "text": [
      "Saving genes to disk:  51%|█████     | 252/495 [01:47<02:16,  1.78it/s]"
     ]
    },
    {
     "name": "stdout",
     "output_type": "stream",
     "text": [
      "Saved mcm3.json.gz (7167.92 KB)\n"
     ]
    },
    {
     "name": "stderr",
     "output_type": "stream",
     "text": [
      "Saving genes to disk:  51%|█████     | 253/495 [01:50<04:07,  1.02s/it]"
     ]
    },
    {
     "name": "stdout",
     "output_type": "stream",
     "text": [
      "Saved mcm4.json.gz (13841.94 KB)\n"
     ]
    },
    {
     "name": "stderr",
     "output_type": "stream",
     "text": [
      "Saving genes to disk:  51%|█████▏    | 254/495 [01:50<03:28,  1.16it/s]"
     ]
    },
    {
     "name": "stdout",
     "output_type": "stream",
     "text": [
      "Saved mcm5.json.gz (2259.81 KB)\n"
     ]
    },
    {
     "name": "stderr",
     "output_type": "stream",
     "text": [
      "Saving genes to disk:  52%|█████▏    | 255/495 [01:53<05:37,  1.40s/it]"
     ]
    },
    {
     "name": "stdout",
     "output_type": "stream",
     "text": [
      "Saved mcm7.json.gz (15417.72 KB)\n"
     ]
    },
    {
     "name": "stderr",
     "output_type": "stream",
     "text": [
      "Saving genes to disk:  52%|█████▏    | 258/495 [01:53<02:29,  1.58it/s]"
     ]
    },
    {
     "name": "stdout",
     "output_type": "stream",
     "text": [
      "Saved mdm2.json.gz (1302.85 KB)\n",
      "Saved mef2d.json.gz (347.11 KB)\n",
      "Saved meis1b.json.gz (284.45 KB)\n",
      "Saved meis2a.json.gz (245.11 KB)\n",
      "Saved meis3.json.gz (99.41 KB)\n",
      "Saved meox1.json.gz (84.54 KB)\n"
     ]
    },
    {
     "name": "stderr",
     "output_type": "stream",
     "text": [
      "Saving genes to disk:  53%|█████▎    | 264/495 [01:54<00:53,  4.34it/s]"
     ]
    },
    {
     "name": "stdout",
     "output_type": "stream",
     "text": [
      "Saved mespaa.json.gz (218.78 KB)\n",
      "Saved mespab.json.gz (184.00 KB)\n",
      "Saved mgst3b.json.gz (605.37 KB)\n",
      "Saved mibp2.json.gz (1374.30 KB)\n"
     ]
    },
    {
     "name": "stderr",
     "output_type": "stream",
     "text": [
      "Saving genes to disk:  54%|█████▎    | 266/495 [01:55<01:11,  3.20it/s]"
     ]
    },
    {
     "name": "stdout",
     "output_type": "stream",
     "text": [
      "Saved mixl1.json.gz (4630.61 KB)\n"
     ]
    },
    {
     "name": "stderr",
     "output_type": "stream",
     "text": [
      "Saving genes to disk:  55%|█████▍    | 272/495 [01:57<01:08,  3.28it/s]"
     ]
    },
    {
     "name": "stdout",
     "output_type": "stream",
     "text": [
      "Saved mki67.json.gz (11500.00 KB)\n",
      "Saved mns1.json.gz (417.52 KB)\n",
      "Saved msgn1.json.gz (173.60 KB)\n",
      "Saved msx1b.json.gz (245.57 KB)\n",
      "Saved msx3.json.gz (123.54 KB)\n",
      "Saved mycb.json.gz (71.55 KB)\n",
      "Saved mych.json.gz (23423.06 KB)\n"
     ]
    },
    {
     "name": "stderr",
     "output_type": "stream",
     "text": [
      "Saving genes to disk:  55%|█████▌    | 274/495 [02:03<03:25,  1.08it/s]"
     ]
    },
    {
     "name": "stdout",
     "output_type": "stream",
     "text": [
      "Saved mycla.json.gz (7710.81 KB)\n",
      "Saved myclb.json.gz (712.21 KB)\n"
     ]
    },
    {
     "name": "stderr",
     "output_type": "stream",
     "text": [
      "Saving genes to disk:  56%|█████▌    | 276/495 [02:03<02:42,  1.35it/s]"
     ]
    },
    {
     "name": "stdout",
     "output_type": "stream",
     "text": [
      "Saved mycn.json.gz (1802.87 KB)\n",
      "Saved myf5.json.gz (83.75 KB)\n",
      "Saved myod1.json.gz (228.76 KB)\n"
     ]
    },
    {
     "name": "stderr",
     "output_type": "stream",
     "text": [
      "Saving genes to disk:  56%|█████▋    | 279/495 [02:05<02:38,  1.36it/s]"
     ]
    },
    {
     "name": "stdout",
     "output_type": "stream",
     "text": [
      "Saved nanog.json.gz (11554.78 KB)\n"
     ]
    },
    {
     "name": "stderr",
     "output_type": "stream",
     "text": [
      "Saving genes to disk:  57%|█████▋    | 280/495 [02:05<02:22,  1.51it/s]"
     ]
    },
    {
     "name": "stdout",
     "output_type": "stream",
     "text": [
      "Saved nanos3.json.gz (1138.73 KB)\n"
     ]
    },
    {
     "name": "stderr",
     "output_type": "stream",
     "text": [
      "Saving genes to disk:  57%|█████▋    | 281/495 [02:06<02:27,  1.45it/s]"
     ]
    },
    {
     "name": "stdout",
     "output_type": "stream",
     "text": [
      "Saved nap1l1.json.gz (4604.53 KB)\n"
     ]
    },
    {
     "name": "stderr",
     "output_type": "stream",
     "text": [
      "Saving genes to disk:  57%|█████▋    | 282/495 [02:07<02:45,  1.29it/s]"
     ]
    },
    {
     "name": "stdout",
     "output_type": "stream",
     "text": [
      "Saved nasp.json.gz (7728.44 KB)\n"
     ]
    },
    {
     "name": "stderr",
     "output_type": "stream",
     "text": [
      "Saving genes to disk:  57%|█████▋    | 283/495 [02:09<03:11,  1.10it/s]"
     ]
    },
    {
     "name": "stdout",
     "output_type": "stream",
     "text": [
      "Saved ncapd2.json.gz (7522.70 KB)\n"
     ]
    },
    {
     "name": "stderr",
     "output_type": "stream",
     "text": [
      "Saving genes to disk:  57%|█████▋    | 284/495 [02:09<02:59,  1.17it/s]"
     ]
    },
    {
     "name": "stdout",
     "output_type": "stream",
     "text": [
      "Saved nckap5l.json.gz (3928.15 KB)\n",
      "Saved ndr1.json.gz (537.19 KB)\n"
     ]
    },
    {
     "name": "stderr",
     "output_type": "stream",
     "text": [
      "Saving genes to disk:  58%|█████▊    | 287/495 [02:10<01:35,  2.17it/s]"
     ]
    },
    {
     "name": "stdout",
     "output_type": "stream",
     "text": [
      "Saved ndr2.json.gz (952.73 KB)\n",
      "Saved ndufv3.json.gz (762.51 KB)\n",
      "Saved nid2a.json.gz (248.70 KB)\n"
     ]
    },
    {
     "name": "stderr",
     "output_type": "stream",
     "text": [
      "Saving genes to disk:  59%|█████▉    | 291/495 [02:10<00:44,  4.57it/s]"
     ]
    },
    {
     "name": "stdout",
     "output_type": "stream",
     "text": [
      "Saved nip7.json.gz (655.59 KB)\n",
      "Saved nkx1.2la.json.gz (561.95 KB)\n",
      "Saved nkx2.2a.json.gz (99.14 KB)\n",
      "Saved nkx2.5.json.gz (500.32 KB)\n"
     ]
    },
    {
     "name": "stderr",
     "output_type": "stream",
     "text": [
      "Saving genes to disk:  59%|█████▉    | 293/495 [02:10<00:35,  5.74it/s]"
     ]
    },
    {
     "name": "stdout",
     "output_type": "stream",
     "text": [
      "Saved nog1.json.gz (523.80 KB)\n",
      "Saved nop58.json.gz (15707.14 KB)\n"
     ]
    },
    {
     "name": "stderr",
     "output_type": "stream",
     "text": [
      "Saving genes to disk:  60%|█████▉    | 295/495 [02:13<01:56,  1.72it/s]"
     ]
    },
    {
     "name": "stdout",
     "output_type": "stream",
     "text": [
      "Saved notch1a.json.gz (3398.54 KB)\n"
     ]
    },
    {
     "name": "stderr",
     "output_type": "stream",
     "text": [
      "Saving genes to disk:  60%|██████    | 298/495 [02:14<01:22,  2.39it/s]"
     ]
    },
    {
     "name": "stdout",
     "output_type": "stream",
     "text": [
      "Saved noto.json.gz (4088.34 KB)\n",
      "Saved nr2f2.json.gz (499.92 KB)\n",
      "Saved nr6a1a.json.gz (249.27 KB)\n"
     ]
    },
    {
     "name": "stderr",
     "output_type": "stream",
     "text": [
      "Saving genes to disk:  60%|██████    | 299/495 [02:14<01:15,  2.61it/s]"
     ]
    },
    {
     "name": "stdout",
     "output_type": "stream",
     "text": [
      "Saved nrarpa.json.gz (1440.25 KB)\n"
     ]
    },
    {
     "name": "stderr",
     "output_type": "stream",
     "text": [
      "Saving genes to disk:  61%|██████    | 300/495 [02:15<01:50,  1.76it/s]"
     ]
    },
    {
     "name": "stdout",
     "output_type": "stream",
     "text": [
      "Saved nsd2.json.gz (6684.69 KB)\n",
      "Saved ntd5.json.gz (179.32 KB)\n"
     ]
    },
    {
     "name": "stderr",
     "output_type": "stream",
     "text": [
      "Saving genes to disk:  61%|██████▏   | 304/495 [02:16<00:59,  3.18it/s]"
     ]
    },
    {
     "name": "stdout",
     "output_type": "stream",
     "text": [
      "Saved oclna.json.gz (2966.37 KB)\n",
      "Saved olig4.json.gz (137.64 KB)\n",
      "Saved osr1.json.gz (593.40 KB)\n"
     ]
    },
    {
     "name": "stderr",
     "output_type": "stream",
     "text": [
      "Saving genes to disk:  62%|██████▏   | 308/495 [02:16<00:30,  6.05it/s]"
     ]
    },
    {
     "name": "stdout",
     "output_type": "stream",
     "text": [
      "Saved otx1.json.gz (813.67 KB)\n",
      "Saved otx2a.json.gz (277.91 KB)\n",
      "Saved otx2b.json.gz (202.54 KB)\n",
      "Saved pax2a.json.gz (158.24 KB)\n",
      "Saved pax3a.json.gz (402.66 KB)\n"
     ]
    },
    {
     "name": "stderr",
     "output_type": "stream",
     "text": [
      "Saving genes to disk:  63%|██████▎   | 310/495 [02:16<00:24,  7.43it/s]"
     ]
    },
    {
     "name": "stdout",
     "output_type": "stream",
     "text": [
      "Saved pax6a.json.gz (358.81 KB)\n",
      "Saved pax6b.json.gz (226.35 KB)\n",
      "Saved pbx1b.json.gz (141.86 KB)\n"
     ]
    },
    {
     "name": "stderr",
     "output_type": "stream",
     "text": [
      "Saving genes to disk:  63%|██████▎   | 313/495 [02:19<01:06,  2.72it/s]"
     ]
    },
    {
     "name": "stdout",
     "output_type": "stream",
     "text": [
      "Saved pbx4.json.gz (11486.02 KB)\n",
      "Saved pcdh10b.json.gz (79.28 KB)\n",
      "Saved pcdh7b.json.gz (73.66 KB)\n"
     ]
    },
    {
     "name": "stderr",
     "output_type": "stream",
     "text": [
      "Saving genes to disk:  64%|██████▍   | 316/495 [02:19<00:46,  3.84it/s]"
     ]
    },
    {
     "name": "stdout",
     "output_type": "stream",
     "text": [
      "Saved pcdh8.json.gz (761.32 KB)\n",
      "Saved pdap1a.json.gz (593.23 KB)\n"
     ]
    },
    {
     "name": "stderr",
     "output_type": "stream",
     "text": [
      "Saving genes to disk:  64%|██████▍   | 318/495 [02:19<00:43,  4.05it/s]"
     ]
    },
    {
     "name": "stdout",
     "output_type": "stream",
     "text": [
      "Saved perp.json.gz (1799.60 KB)\n"
     ]
    },
    {
     "name": "stderr",
     "output_type": "stream",
     "text": [
      "Saving genes to disk:  64%|██████▍   | 319/495 [02:20<01:01,  2.88it/s]"
     ]
    },
    {
     "name": "stdout",
     "output_type": "stream",
     "text": [
      "Saved pfn2.json.gz (4986.04 KB)\n",
      "Saved pitx2.json.gz (356.27 KB)\n"
     ]
    },
    {
     "name": "stderr",
     "output_type": "stream",
     "text": [
      "Saving genes to disk:  65%|██████▌   | 323/495 [02:20<00:37,  4.58it/s]"
     ]
    },
    {
     "name": "stdout",
     "output_type": "stream",
     "text": [
      "Saved pknox1.1.json.gz (875.56 KB)\n",
      "Saved plagl2.json.gz (294.88 KB)\n",
      "Saved plekhg5b.json.gz (822.21 KB)\n",
      "Saved pmp22b.json.gz (120.00 KB)\n"
     ]
    },
    {
     "name": "stderr",
     "output_type": "stream",
     "text": [
      "Saving genes to disk:  66%|██████▌   | 326/495 [02:21<00:30,  5.53it/s]"
     ]
    },
    {
     "name": "stdout",
     "output_type": "stream",
     "text": [
      "Saved pold3.json.gz (1514.55 KB)\n",
      "Saved ppan.json.gz (725.76 KB)\n"
     ]
    },
    {
     "name": "stderr",
     "output_type": "stream",
     "text": [
      "Saving genes to disk:  66%|██████▌   | 327/495 [02:21<00:29,  5.67it/s]"
     ]
    },
    {
     "name": "stdout",
     "output_type": "stream",
     "text": [
      "Saved ppp1r7.json.gz (937.21 KB)\n",
      "Saved prdm1a.json.gz (304.69 KB)\n"
     ]
    },
    {
     "name": "stderr",
     "output_type": "stream",
     "text": [
      "Saving genes to disk:  66%|██████▋   | 329/495 [02:22<00:46,  3.59it/s]"
     ]
    },
    {
     "name": "stdout",
     "output_type": "stream",
     "text": [
      "Saved prickle1b.json.gz (4899.86 KB)\n"
     ]
    },
    {
     "name": "stderr",
     "output_type": "stream",
     "text": [
      "Saving genes to disk:  67%|██████▋   | 330/495 [02:23<01:23,  1.99it/s]"
     ]
    },
    {
     "name": "stdout",
     "output_type": "stream",
     "text": [
      "Saved prmt1.json.gz (7532.99 KB)\n",
      "Saved prox1a.json.gz (233.85 KB)\n"
     ]
    },
    {
     "name": "stderr",
     "output_type": "stream",
     "text": [
      "Saving genes to disk:  67%|██████▋   | 332/495 [02:25<01:35,  1.71it/s]"
     ]
    },
    {
     "name": "stdout",
     "output_type": "stream",
     "text": [
      "Saved ptp4a2b.json.gz (7436.96 KB)\n"
     ]
    },
    {
     "name": "stderr",
     "output_type": "stream",
     "text": [
      "Saving genes to disk:  67%|██████▋   | 333/495 [02:25<01:23,  1.93it/s]"
     ]
    },
    {
     "name": "stdout",
     "output_type": "stream",
     "text": [
      "Saved pttg1.json.gz (1566.57 KB)\n",
      "Saved rab11fip4a.json.gz (553.78 KB)\n"
     ]
    },
    {
     "name": "stderr",
     "output_type": "stream",
     "text": [
      "Saving genes to disk:  68%|██████▊   | 335/495 [02:27<01:38,  1.62it/s]"
     ]
    },
    {
     "name": "stdout",
     "output_type": "stream",
     "text": [
      "Saved rac1a.json.gz (8107.73 KB)\n",
      "Saved raraa.json.gz (415.16 KB)\n"
     ]
    },
    {
     "name": "stderr",
     "output_type": "stream",
     "text": [
      "Saving genes to disk:  68%|██████▊   | 338/495 [02:27<01:08,  2.30it/s]"
     ]
    },
    {
     "name": "stdout",
     "output_type": "stream",
     "text": [
      "Saved rasgef1ba.json.gz (3169.26 KB)\n",
      "Saved rasl11b.json.gz (713.31 KB)\n"
     ]
    },
    {
     "name": "stderr",
     "output_type": "stream",
     "text": [
      "Saving genes to disk:  68%|██████▊   | 339/495 [02:28<01:15,  2.08it/s]"
     ]
    },
    {
     "name": "stdout",
     "output_type": "stream",
     "text": [
      "Saved rbbp4.json.gz (3691.56 KB)\n"
     ]
    },
    {
     "name": "stderr",
     "output_type": "stream",
     "text": [
      "Saving genes to disk:  69%|██████▊   | 340/495 [02:29<01:24,  1.82it/s]"
     ]
    },
    {
     "name": "stdout",
     "output_type": "stream",
     "text": [
      "Saved rbm4.3.json.gz (5026.86 KB)\n"
     ]
    },
    {
     "name": "stderr",
     "output_type": "stream",
     "text": [
      "Saving genes to disk:  69%|██████▉   | 341/495 [02:30<01:47,  1.43it/s]"
     ]
    },
    {
     "name": "stdout",
     "output_type": "stream",
     "text": [
      "Saved rbm7.json.gz (6371.40 KB)\n"
     ]
    },
    {
     "name": "stderr",
     "output_type": "stream",
     "text": [
      "Saving genes to disk:  69%|██████▉   | 342/495 [02:31<02:04,  1.23it/s]"
     ]
    },
    {
     "name": "stdout",
     "output_type": "stream",
     "text": [
      "Saved rbmx.json.gz (6273.33 KB)\n"
     ]
    },
    {
     "name": "stderr",
     "output_type": "stream",
     "text": [
      "Saving genes to disk:  69%|██████▉   | 343/495 [02:35<04:35,  1.81s/it]"
     ]
    },
    {
     "name": "stdout",
     "output_type": "stream",
     "text": [
      "Saved rcc1.json.gz (23282.23 KB)\n",
      "Saved rdh10b.json.gz (504.50 KB)\n"
     ]
    },
    {
     "name": "stderr",
     "output_type": "stream",
     "text": [
      "Saving genes to disk:  70%|██████▉   | 345/495 [02:36<02:52,  1.15s/it]"
     ]
    },
    {
     "name": "stdout",
     "output_type": "stream",
     "text": [
      "Saved rfx2.json.gz (3048.57 KB)\n"
     ]
    },
    {
     "name": "stderr",
     "output_type": "stream",
     "text": [
      "Saving genes to disk:  70%|███████   | 348/495 [02:36<01:26,  1.70it/s]"
     ]
    },
    {
     "name": "stdout",
     "output_type": "stream",
     "text": [
      "Saved rhov.json.gz (1813.81 KB)\n",
      "Saved ripply1.json.gz (236.94 KB)\n",
      "Saved rnd1b.json.gz (530.48 KB)\n"
     ]
    },
    {
     "name": "stderr",
     "output_type": "stream",
     "text": [
      "Saving genes to disk:  71%|███████   | 349/495 [02:37<01:20,  1.82it/s]"
     ]
    },
    {
     "name": "stdout",
     "output_type": "stream",
     "text": [
      "Saved rpl10.json.gz (2718.70 KB)\n"
     ]
    },
    {
     "name": "stderr",
     "output_type": "stream",
     "text": [
      "Saving genes to disk:  71%|███████   | 350/495 [02:37<01:17,  1.86it/s]"
     ]
    },
    {
     "name": "stdout",
     "output_type": "stream",
     "text": [
      "Saved rpl19.json.gz (2222.47 KB)\n"
     ]
    },
    {
     "name": "stderr",
     "output_type": "stream",
     "text": [
      "Saving genes to disk:  71%|███████▏  | 353/495 [02:38<00:43,  3.26it/s]"
     ]
    },
    {
     "name": "stdout",
     "output_type": "stream",
     "text": [
      "Saved rpl31.json.gz (1880.42 KB)\n",
      "Saved rpl34.json.gz (493.29 KB)\n",
      "Saved rpl38.json.gz (323.84 KB)\n"
     ]
    },
    {
     "name": "stderr",
     "output_type": "stream",
     "text": [
      "Saving genes to disk:  72%|███████▏  | 354/495 [02:38<00:42,  3.28it/s]"
     ]
    },
    {
     "name": "stdout",
     "output_type": "stream",
     "text": [
      "Saved rpl4.json.gz (1727.77 KB)\n"
     ]
    },
    {
     "name": "stderr",
     "output_type": "stream",
     "text": [
      "Saving genes to disk:  72%|███████▏  | 355/495 [02:38<00:41,  3.41it/s]"
     ]
    },
    {
     "name": "stdout",
     "output_type": "stream",
     "text": [
      "Saved rpl5a.json.gz (1537.22 KB)\n"
     ]
    },
    {
     "name": "stderr",
     "output_type": "stream",
     "text": [
      "Saving genes to disk:  72%|███████▏  | 356/495 [02:39<00:57,  2.42it/s]"
     ]
    },
    {
     "name": "stdout",
     "output_type": "stream",
     "text": [
      "Saved rpl6.json.gz (4290.96 KB)\n"
     ]
    },
    {
     "name": "stderr",
     "output_type": "stream",
     "text": [
      "Saving genes to disk:  72%|███████▏  | 357/495 [02:41<01:40,  1.37it/s]"
     ]
    },
    {
     "name": "stdout",
     "output_type": "stream",
     "text": [
      "Saved rplp0.json.gz (10895.01 KB)\n"
     ]
    },
    {
     "name": "stderr",
     "output_type": "stream",
     "text": [
      "Saving genes to disk:  72%|███████▏  | 358/495 [02:41<01:34,  1.45it/s]"
     ]
    },
    {
     "name": "stdout",
     "output_type": "stream",
     "text": [
      "Saved rplp2l.json.gz (3826.51 KB)\n"
     ]
    },
    {
     "name": "stderr",
     "output_type": "stream",
     "text": [
      "Saving genes to disk:  73%|███████▎  | 359/495 [02:42<01:26,  1.58it/s]"
     ]
    },
    {
     "name": "stdout",
     "output_type": "stream",
     "text": [
      "Saved rps3.json.gz (2896.94 KB)\n"
     ]
    },
    {
     "name": "stderr",
     "output_type": "stream",
     "text": [
      "Saving genes to disk:  73%|███████▎  | 360/495 [02:43<02:04,  1.08it/s]"
     ]
    },
    {
     "name": "stdout",
     "output_type": "stream",
     "text": [
      "Saved rps6.json.gz (10784.73 KB)\n"
     ]
    },
    {
     "name": "stderr",
     "output_type": "stream",
     "text": [
      "Saving genes to disk:  73%|███████▎  | 361/495 [02:44<01:44,  1.28it/s]"
     ]
    },
    {
     "name": "stdout",
     "output_type": "stream",
     "text": [
      "Saved rrbp1b.json.gz (2509.52 KB)\n"
     ]
    },
    {
     "name": "stderr",
     "output_type": "stream",
     "text": [
      "Saving genes to disk:  73%|███████▎  | 363/495 [02:44<01:07,  1.95it/s]"
     ]
    },
    {
     "name": "stdout",
     "output_type": "stream",
     "text": [
      "Saved rreb1a.json.gz (2416.27 KB)\n",
      "Saved rreb1b.json.gz (829.29 KB)\n"
     ]
    },
    {
     "name": "stderr",
     "output_type": "stream",
     "text": [
      "Saving genes to disk:  74%|███████▍  | 367/495 [02:48<01:28,  1.44it/s]"
     ]
    },
    {
     "name": "stdout",
     "output_type": "stream",
     "text": [
      "Saved rrm2.json.gz (20946.19 KB)\n",
      "Saved rrp8.json.gz (213.77 KB)\n",
      "Saved rx3.json.gz (230.42 KB)\n",
      "Saved rxraa.json.gz (200.99 KB)\n"
     ]
    },
    {
     "name": "stderr",
     "output_type": "stream",
     "text": [
      "Saving genes to disk:  75%|███████▍  | 371/495 [02:49<00:42,  2.89it/s]"
     ]
    },
    {
     "name": "stdout",
     "output_type": "stream",
     "text": [
      "Saved rxrgb.json.gz (604.02 KB)\n",
      "Saved sall1a.json.gz (125.66 KB)\n",
      "Saved sall3a.json.gz (544.21 KB)\n",
      "Saved sall3b.json.gz (474.20 KB)\n"
     ]
    },
    {
     "name": "stderr",
     "output_type": "stream",
     "text": [
      "Saving genes to disk:  75%|███████▌  | 373/495 [02:49<00:34,  3.49it/s]"
     ]
    },
    {
     "name": "stdout",
     "output_type": "stream",
     "text": [
      "Saved sdc4.json.gz (1712.82 KB)\n",
      "Saved sebox.json.gz (186.44 KB)\n"
     ]
    },
    {
     "name": "stderr",
     "output_type": "stream",
     "text": [
      "Saving genes to disk:  76%|███████▌  | 375/495 [02:50<00:38,  3.14it/s]"
     ]
    },
    {
     "name": "stdout",
     "output_type": "stream",
     "text": [
      "Saved sept9a.json.gz (4002.87 KB)\n",
      "Saved shha.json.gz (412.55 KB)\n",
      "Saved si:ch211-106e7.2.json.gz (467.06 KB)\n"
     ]
    },
    {
     "name": "stderr",
     "output_type": "stream",
     "text": [
      "Saving genes to disk:  76%|███████▋  | 378/495 [02:50<00:28,  4.15it/s]"
     ]
    },
    {
     "name": "stdout",
     "output_type": "stream",
     "text": [
      "Saved si:ch211-113a14.12.json.gz (1209.49 KB)\n",
      "Saved si:ch211-113a14.18.json.gz (490.78 KB)\n",
      "Saved si:ch211-114n24.6.json.gz (406.79 KB)\n"
     ]
    },
    {
     "name": "stderr",
     "output_type": "stream",
     "text": [
      "Saving genes to disk:  77%|███████▋  | 380/495 [02:51<00:27,  4.25it/s]"
     ]
    },
    {
     "name": "stdout",
     "output_type": "stream",
     "text": [
      "Saved si:ch211-155e24.3.json.gz (2210.02 KB)\n"
     ]
    },
    {
     "name": "stderr",
     "output_type": "stream",
     "text": [
      "Saving genes to disk:  77%|███████▋  | 381/495 [02:51<00:35,  3.24it/s]"
     ]
    },
    {
     "name": "stdout",
     "output_type": "stream",
     "text": [
      "Saved si:ch211-161h7.4.json.gz (3486.62 KB)\n",
      "Saved si:ch211-163l21.7.json.gz (35.96 KB)\n"
     ]
    },
    {
     "name": "stderr",
     "output_type": "stream",
     "text": [
      "Saving genes to disk:  77%|███████▋  | 383/495 [02:53<00:59,  1.88it/s]"
     ]
    },
    {
     "name": "stdout",
     "output_type": "stream",
     "text": [
      "Saved si:dkey-108k21.14.json.gz (10078.65 KB)\n",
      "Saved si:dkey-108k21.21.json.gz (102.22 KB)\n",
      "Saved si:dkey-261h17.1.json.gz (356.96 KB)\n"
     ]
    },
    {
     "name": "stderr",
     "output_type": "stream",
     "text": [
      "Saving genes to disk:  78%|███████▊  | 386/495 [02:54<00:49,  2.21it/s]"
     ]
    },
    {
     "name": "stdout",
     "output_type": "stream",
     "text": [
      "Saved si:dkey-261m9.12.json.gz (5390.87 KB)\n"
     ]
    },
    {
     "name": "stderr",
     "output_type": "stream",
     "text": [
      "Saving genes to disk:  78%|███████▊  | 387/495 [02:54<00:45,  2.39it/s]"
     ]
    },
    {
     "name": "stdout",
     "output_type": "stream",
     "text": [
      "Saved si:dkey-66i24.9.json.gz (1524.41 KB)\n"
     ]
    },
    {
     "name": "stderr",
     "output_type": "stream",
     "text": [
      "Saving genes to disk:  79%|███████▊  | 389/495 [02:55<00:35,  3.02it/s]"
     ]
    },
    {
     "name": "stdout",
     "output_type": "stream",
     "text": [
      "Saved si:dkey-68o6.5.json.gz (1397.07 KB)\n",
      "Saved si:dkey-92i17.2.json.gz (887.04 KB)\n",
      "Saved six3b.json.gz (137.33 KB)\n",
      "Saved six4a.json.gz (134.47 KB)\n"
     ]
    },
    {
     "name": "stderr",
     "output_type": "stream",
     "text": [
      "Saving genes to disk:  79%|███████▉  | 393/495 [02:55<00:16,  6.18it/s]"
     ]
    },
    {
     "name": "stdout",
     "output_type": "stream",
     "text": [
      "Saved six4b.json.gz (74.98 KB)\n",
      "Saved six7.json.gz (303.39 KB)\n"
     ]
    },
    {
     "name": "stderr",
     "output_type": "stream",
     "text": [
      "Saving genes to disk:  80%|███████▉  | 395/495 [02:55<00:18,  5.36it/s]"
     ]
    },
    {
     "name": "stdout",
     "output_type": "stream",
     "text": [
      "Saved skia.json.gz (1904.91 KB)\n",
      "Saved skila.json.gz (1029.87 KB)\n"
     ]
    },
    {
     "name": "stderr",
     "output_type": "stream",
     "text": [
      "Saving genes to disk:  80%|████████  | 397/495 [02:56<00:15,  6.14it/s]"
     ]
    },
    {
     "name": "stdout",
     "output_type": "stream",
     "text": [
      "Saved skilb.json.gz (698.31 KB)\n",
      "Saved smtnl.json.gz (191.75 KB)\n",
      "Saved snai1a.json.gz (5499.84 KB)\n"
     ]
    },
    {
     "name": "stderr",
     "output_type": "stream",
     "text": [
      "Saving genes to disk:  81%|████████  | 400/495 [02:58<00:33,  2.85it/s]"
     ]
    },
    {
     "name": "stdout",
     "output_type": "stream",
     "text": [
      "Saved snai2.json.gz (5348.59 KB)\n",
      "Saved snrpc.json.gz (861.43 KB)\n",
      "Saved snrpd3.json.gz (131.38 KB)\n",
      "Saved snrpg.json.gz (317.55 KB)\n",
      "Saved sox10.json.gz (130.88 KB)\n"
     ]
    },
    {
     "name": "stderr",
     "output_type": "stream",
     "text": [
      "Saving genes to disk:  82%|████████▏ | 404/495 [03:00<00:37,  2.42it/s]"
     ]
    },
    {
     "name": "stdout",
     "output_type": "stream",
     "text": [
      "Saved sox11a.json.gz (9850.03 KB)\n"
     ]
    },
    {
     "name": "stderr",
     "output_type": "stream",
     "text": [
      "Saving genes to disk:  82%|████████▏ | 406/495 [03:02<00:57,  1.56it/s]"
     ]
    },
    {
     "name": "stdout",
     "output_type": "stream",
     "text": [
      "Saved sox11b.json.gz (14509.08 KB)\n",
      "Saved sox13.json.gz (605.33 KB)\n",
      "Saved sox17.json.gz (93.77 KB)\n"
     ]
    },
    {
     "name": "stderr",
     "output_type": "stream",
     "text": [
      "Saving genes to disk:  83%|████████▎ | 409/495 [03:05<00:57,  1.51it/s]"
     ]
    },
    {
     "name": "stdout",
     "output_type": "stream",
     "text": [
      "Saved sox19a.json.gz (11852.90 KB)\n",
      "Saved sox2.json.gz (625.57 KB)\n"
     ]
    },
    {
     "name": "stderr",
     "output_type": "stream",
     "text": [
      "Saving genes to disk:  83%|████████▎ | 410/495 [03:05<00:52,  1.62it/s]"
     ]
    },
    {
     "name": "stdout",
     "output_type": "stream",
     "text": [
      "Saved sox3.json.gz (2547.57 KB)\n"
     ]
    },
    {
     "name": "stderr",
     "output_type": "stream",
     "text": [
      "Saving genes to disk:  83%|████████▎ | 411/495 [03:05<00:44,  1.88it/s]"
     ]
    },
    {
     "name": "stdout",
     "output_type": "stream",
     "text": [
      "Saved sox32.json.gz (1689.43 KB)\n",
      "Saved sox5.json.gz (183.87 KB)\n",
      "Saved sp5a.json.gz (138.99 KB)\n"
     ]
    },
    {
     "name": "stderr",
     "output_type": "stream",
     "text": [
      "Saving genes to disk:  84%|████████▍ | 417/495 [03:06<00:17,  4.52it/s]"
     ]
    },
    {
     "name": "stdout",
     "output_type": "stream",
     "text": [
      "Saved sp5l.json.gz (2225.69 KB)\n",
      "Saved sp8b.json.gz (494.18 KB)\n",
      "Saved spon1b.json.gz (54.80 KB)\n",
      "Saved srp19.json.gz (475.44 KB)\n"
     ]
    },
    {
     "name": "stderr",
     "output_type": "stream",
     "text": [
      "Saving genes to disk:  85%|████████▍ | 419/495 [03:06<00:14,  5.35it/s]"
     ]
    },
    {
     "name": "stdout",
     "output_type": "stream",
     "text": [
      "Saved srrm4.json.gz (510.26 KB)\n",
      "Saved stmn1a.json.gz (715.28 KB)\n"
     ]
    },
    {
     "name": "stderr",
     "output_type": "stream",
     "text": [
      "Saving genes to disk:  85%|████████▍ | 420/495 [03:07<00:16,  4.46it/s]"
     ]
    },
    {
     "name": "stdout",
     "output_type": "stream",
     "text": [
      "Saved stox1.json.gz (2394.35 KB)\n"
     ]
    },
    {
     "name": "stderr",
     "output_type": "stream",
     "text": [
      "Saving genes to disk:  85%|████████▌ | 421/495 [03:11<01:20,  1.09s/it]"
     ]
    },
    {
     "name": "stdout",
     "output_type": "stream",
     "text": [
      "Saved supt16h.json.gz (24986.84 KB)\n",
      "Saved syne2b.json.gz (378.59 KB)\n",
      "Saved szl.json.gz (193.28 KB)\n"
     ]
    },
    {
     "name": "stderr",
     "output_type": "stream",
     "text": [
      "Saving genes to disk:  86%|████████▌ | 424/495 [03:12<00:45,  1.55it/s]"
     ]
    },
    {
     "name": "stdout",
     "output_type": "stream",
     "text": [
      "Saved tagln2.json.gz (1160.71 KB)\n",
      "Saved tbr1b.json.gz (97.42 KB)\n",
      "Saved tbx1.json.gz (74.16 KB)\n"
     ]
    },
    {
     "name": "stderr",
     "output_type": "stream",
     "text": [
      "Saving genes to disk:  86%|████████▋ | 428/495 [03:15<00:48,  1.38it/s]"
     ]
    },
    {
     "name": "stdout",
     "output_type": "stream",
     "text": [
      "Saved tbx16.json.gz (23755.71 KB)\n",
      "Saved tbx16l.json.gz (651.57 KB)\n"
     ]
    },
    {
     "name": "stderr",
     "output_type": "stream",
     "text": [
      "Saving genes to disk:  87%|████████▋ | 429/495 [03:15<00:40,  1.64it/s]"
     ]
    },
    {
     "name": "stdout",
     "output_type": "stream",
     "text": [
      "Saved tbx3b.json.gz (722.27 KB)\n",
      "Saved tbx6.json.gz (343.51 KB)\n"
     ]
    },
    {
     "name": "stderr",
     "output_type": "stream",
     "text": [
      "Saving genes to disk:  87%|████████▋ | 432/495 [03:17<00:32,  1.93it/s]"
     ]
    },
    {
     "name": "stdout",
     "output_type": "stream",
     "text": [
      "Saved tbxta.json.gz (6813.27 KB)\n",
      "Saved tbxtb.json.gz (600.95 KB)\n"
     ]
    },
    {
     "name": "stderr",
     "output_type": "stream",
     "text": [
      "Saving genes to disk:  87%|████████▋ | 433/495 [03:18<00:38,  1.62it/s]"
     ]
    },
    {
     "name": "stdout",
     "output_type": "stream",
     "text": [
      "Saved tcf3b.json.gz (5429.75 KB)\n",
      "Saved tcf7.json.gz (166.46 KB)\n"
     ]
    },
    {
     "name": "stderr",
     "output_type": "stream",
     "text": [
      "Saving genes to disk:  88%|████████▊ | 435/495 [03:18<00:28,  2.09it/s]"
     ]
    },
    {
     "name": "stdout",
     "output_type": "stream",
     "text": [
      "Saved tcf7l1a.json.gz (2827.74 KB)\n"
     ]
    },
    {
     "name": "stderr",
     "output_type": "stream",
     "text": [
      "Saving genes to disk:  88%|████████▊ | 436/495 [03:19<00:26,  2.21it/s]"
     ]
    },
    {
     "name": "stdout",
     "output_type": "stream",
     "text": [
      "Saved tcf7l1b.json.gz (2122.30 KB)\n",
      "Saved tcf7l2.json.gz (178.74 KB)\n"
     ]
    },
    {
     "name": "stderr",
     "output_type": "stream",
     "text": [
      "Saving genes to disk:  89%|████████▉ | 440/495 [03:19<00:15,  3.45it/s]"
     ]
    },
    {
     "name": "stdout",
     "output_type": "stream",
     "text": [
      "Saved tdgf1.json.gz (3908.51 KB)\n",
      "Saved tead1a.json.gz (437.87 KB)\n",
      "Saved tead1b.json.gz (213.67 KB)\n"
     ]
    },
    {
     "name": "stderr",
     "output_type": "stream",
     "text": [
      "Saving genes to disk:  89%|████████▉ | 441/495 [03:20<00:14,  3.64it/s]"
     ]
    },
    {
     "name": "stdout",
     "output_type": "stream",
     "text": [
      "Saved tfap2a.json.gz (1238.04 KB)\n"
     ]
    },
    {
     "name": "stderr",
     "output_type": "stream",
     "text": [
      "Saving genes to disk:  89%|████████▉ | 442/495 [03:20<00:17,  3.06it/s]"
     ]
    },
    {
     "name": "stdout",
     "output_type": "stream",
     "text": [
      "Saved tfap2c.json.gz (3210.93 KB)\n"
     ]
    },
    {
     "name": "stderr",
     "output_type": "stream",
     "text": [
      "Saving genes to disk:  89%|████████▉ | 443/495 [03:21<00:22,  2.33it/s]"
     ]
    },
    {
     "name": "stdout",
     "output_type": "stream",
     "text": [
      "Saved tgif1.json.gz (4276.20 KB)\n"
     ]
    },
    {
     "name": "stderr",
     "output_type": "stream",
     "text": [
      "Saving genes to disk:  90%|████████▉ | 445/495 [03:21<00:15,  3.24it/s]"
     ]
    },
    {
     "name": "stdout",
     "output_type": "stream",
     "text": [
      "Saved tlcd5a.json.gz (1479.85 KB)\n",
      "Saved tmed10.json.gz (676.43 KB)\n",
      "Saved tmed2.json.gz (518.95 KB)\n"
     ]
    },
    {
     "name": "stderr",
     "output_type": "stream",
     "text": [
      "Saving genes to disk:  91%|█████████ | 448/495 [03:22<00:08,  5.24it/s]"
     ]
    },
    {
     "name": "stdout",
     "output_type": "stream",
     "text": [
      "Saved tp63.json.gz (597.22 KB)\n",
      "Saved tph1b.json.gz (591.33 KB)\n",
      "Saved tpx2.json.gz (178.60 KB)\n"
     ]
    },
    {
     "name": "stderr",
     "output_type": "stream",
     "text": [
      "Saving genes to disk:  91%|█████████ | 451/495 [03:23<00:11,  3.85it/s]"
     ]
    },
    {
     "name": "stdout",
     "output_type": "stream",
     "text": [
      "Saved tram1.json.gz (4861.01 KB)\n",
      "Saved trps1.json.gz (899.68 KB)\n",
      "Saved tshz3b.json.gz (314.81 KB)\n"
     ]
    },
    {
     "name": "stderr",
     "output_type": "stream",
     "text": [
      "Saving genes to disk:  92%|█████████▏| 453/495 [03:23<00:07,  5.62it/s]"
     ]
    },
    {
     "name": "stdout",
     "output_type": "stream",
     "text": [
      "Saved tuba1a.json.gz (303.35 KB)\n"
     ]
    },
    {
     "name": "stderr",
     "output_type": "stream",
     "text": [
      "Saving genes to disk:  92%|█████████▏| 455/495 [03:23<00:07,  5.03it/s]"
     ]
    },
    {
     "name": "stdout",
     "output_type": "stream",
     "text": [
      "Saved tuba8l.json.gz (2187.60 KB)\n",
      "Saved tuba8l2.json.gz (597.10 KB)\n"
     ]
    },
    {
     "name": "stderr",
     "output_type": "stream",
     "text": [
      "Saving genes to disk:  92%|█████████▏| 456/495 [03:28<00:42,  1.08s/it]"
     ]
    },
    {
     "name": "stdout",
     "output_type": "stream",
     "text": [
      "Saved tuba8l4.json.gz (30491.31 KB)\n"
     ]
    },
    {
     "name": "stderr",
     "output_type": "stream",
     "text": [
      "Saving genes to disk:  93%|█████████▎| 460/495 [03:29<00:19,  1.83it/s]"
     ]
    },
    {
     "name": "stdout",
     "output_type": "stream",
     "text": [
      "Saved tubb2b.json.gz (5093.56 KB)\n",
      "Saved twist1a.json.gz (70.45 KB)\n",
      "Saved twist2.json.gz (159.03 KB)\n",
      "Saved ube2c.json.gz (396.66 KB)\n"
     ]
    },
    {
     "name": "stderr",
     "output_type": "stream",
     "text": [
      "Saving genes to disk:  93%|█████████▎| 462/495 [03:36<00:48,  1.47s/it]"
     ]
    },
    {
     "name": "stdout",
     "output_type": "stream",
     "text": [
      "Saved uhrf1.json.gz (36516.43 KB)\n",
      "Saved unc5b.json.gz (241.99 KB)\n",
      "Saved uncx4.1.json.gz (551.94 KB)\n"
     ]
    },
    {
     "name": "stderr",
     "output_type": "stream",
     "text": [
      "Saving genes to disk:  94%|█████████▎| 464/495 [03:36<00:33,  1.08s/it]"
     ]
    },
    {
     "name": "stdout",
     "output_type": "stream",
     "text": [
      "Saved unga.json.gz (1854.15 KB)\n",
      "Saved usf1.json.gz (491.51 KB)\n"
     ]
    },
    {
     "name": "stderr",
     "output_type": "stream",
     "text": [
      "Saving genes to disk:  94%|█████████▍| 466/495 [03:36<00:23,  1.23it/s]"
     ]
    },
    {
     "name": "stdout",
     "output_type": "stream",
     "text": [
      "Saved ved.json.gz (2379.96 KB)\n"
     ]
    },
    {
     "name": "stderr",
     "output_type": "stream",
     "text": [
      "Saving genes to disk:  94%|█████████▍| 467/495 [03:37<00:19,  1.40it/s]"
     ]
    },
    {
     "name": "stdout",
     "output_type": "stream",
     "text": [
      "Saved vent.json.gz (1537.48 KB)\n"
     ]
    },
    {
     "name": "stderr",
     "output_type": "stream",
     "text": [
      "Saving genes to disk:  95%|█████████▍| 468/495 [03:38<00:22,  1.21it/s]"
     ]
    },
    {
     "name": "stdout",
     "output_type": "stream",
     "text": [
      "Saved vgll4l.json.gz (7110.97 KB)\n",
      "Saved vox.json.gz (347.61 KB)\n"
     ]
    },
    {
     "name": "stderr",
     "output_type": "stream",
     "text": [
      "Saving genes to disk:  95%|█████████▍| 470/495 [03:41<00:26,  1.07s/it]"
     ]
    },
    {
     "name": "stdout",
     "output_type": "stream",
     "text": [
      "Saved vrtn.json.gz (15683.15 KB)\n",
      "Saved vsx2.json.gz (120.63 KB)\n"
     ]
    },
    {
     "name": "stderr",
     "output_type": "stream",
     "text": [
      "Saving genes to disk:  96%|█████████▌| 473/495 [03:42<00:14,  1.50it/s]"
     ]
    },
    {
     "name": "stdout",
     "output_type": "stream",
     "text": [
      "Saved wnt11f2.json.gz (3202.96 KB)\n",
      "Saved wnt8a.json.gz (990.93 KB)\n"
     ]
    },
    {
     "name": "stderr",
     "output_type": "stream",
     "text": [
      "Saving genes to disk:  96%|█████████▌| 475/495 [03:43<00:11,  1.71it/s]"
     ]
    },
    {
     "name": "stdout",
     "output_type": "stream",
     "text": [
      "Saved xbp1.json.gz (5486.23 KB)\n",
      "Saved ypel3.json.gz (1167.22 KB)\n"
     ]
    },
    {
     "name": "stderr",
     "output_type": "stream",
     "text": [
      "Saving genes to disk:  96%|█████████▋| 477/495 [03:43<00:06,  2.57it/s]"
     ]
    },
    {
     "name": "stdout",
     "output_type": "stream",
     "text": [
      "Saved zbtb18.json.gz (512.92 KB)\n",
      "Saved zc4h2.json.gz (696.26 KB)\n"
     ]
    },
    {
     "name": "stderr",
     "output_type": "stream",
     "text": [
      "Saving genes to disk:  97%|█████████▋| 480/495 [03:43<00:03,  4.17it/s]"
     ]
    },
    {
     "name": "stdout",
     "output_type": "stream",
     "text": [
      "Saved zeb1a.json.gz (1519.32 KB)\n",
      "Saved zeb1b.json.gz (282.50 KB)\n",
      "Saved zeb2a.json.gz (349.87 KB)\n"
     ]
    },
    {
     "name": "stderr",
     "output_type": "stream",
     "text": [
      "Saving genes to disk:  97%|█████████▋| 481/495 [03:43<00:02,  4.74it/s]"
     ]
    },
    {
     "name": "stdout",
     "output_type": "stream",
     "text": [
      "Saved zeb2b.json.gz (624.21 KB)\n"
     ]
    },
    {
     "name": "stderr",
     "output_type": "stream",
     "text": [
      "Saving genes to disk:  98%|█████████▊| 484/495 [03:44<00:01,  5.70it/s]"
     ]
    },
    {
     "name": "stdout",
     "output_type": "stream",
     "text": [
      "Saved zfand5a.json.gz (2051.62 KB)\n",
      "Saved zgc:113372.json.gz (103.57 KB)\n",
      "Saved zgc:113424.json.gz (800.70 KB)\n",
      "Saved zgc:174154.json.gz (105.64 KB)\n"
     ]
    },
    {
     "name": "stderr",
     "output_type": "stream",
     "text": [
      "Saving genes to disk:  98%|█████████▊| 486/495 [03:44<00:01,  7.16it/s]"
     ]
    },
    {
     "name": "stdout",
     "output_type": "stream",
     "text": [
      "Saved zgc:175088.json.gz (837.58 KB)\n",
      "Saved zic2a.json.gz (1397.81 KB)\n"
     ]
    },
    {
     "name": "stderr",
     "output_type": "stream",
     "text": [
      "Saving genes to disk:  99%|█████████▊| 488/495 [03:47<00:04,  1.48it/s]"
     ]
    },
    {
     "name": "stdout",
     "output_type": "stream",
     "text": [
      "Saved zic2b.json.gz (16607.41 KB)\n"
     ]
    },
    {
     "name": "stderr",
     "output_type": "stream",
     "text": [
      "Saving genes to disk:  99%|█████████▉| 490/495 [03:48<00:02,  2.07it/s]"
     ]
    },
    {
     "name": "stdout",
     "output_type": "stream",
     "text": [
      "Saved zic3.json.gz (1202.02 KB)\n",
      "Saved zmp:0000000624.json.gz (808.10 KB)\n",
      "Saved znf1004.json.gz (177.74 KB)\n"
     ]
    },
    {
     "name": "stderr",
     "output_type": "stream",
     "text": [
      "Saving genes to disk:  99%|█████████▉| 492/495 [03:48<00:01,  2.76it/s]"
     ]
    },
    {
     "name": "stdout",
     "output_type": "stream",
     "text": [
      "Saved znf185.json.gz (1713.17 KB)\n"
     ]
    },
    {
     "name": "stderr",
     "output_type": "stream",
     "text": [
      "Saving genes to disk: 100%|█████████▉| 493/495 [03:49<00:00,  2.47it/s]"
     ]
    },
    {
     "name": "stdout",
     "output_type": "stream",
     "text": [
      "Saved znf576.2.json.gz (2855.13 KB)\n"
     ]
    },
    {
     "name": "stderr",
     "output_type": "stream",
     "text": [
      "Saving genes to disk: 100%|█████████▉| 494/495 [03:50<00:00,  1.91it/s]"
     ]
    },
    {
     "name": "stdout",
     "output_type": "stream",
     "text": [
      "Saved znfl2a.json.gz (5157.00 KB)\n"
     ]
    },
    {
     "name": "stderr",
     "output_type": "stream",
     "text": [
      "Saving genes to disk: 100%|██████████| 495/495 [03:50<00:00,  2.15it/s]"
     ]
    },
    {
     "name": "stdout",
     "output_type": "stream",
     "text": [
      "Saved zswim5.json.gz (3314.35 KB)\n",
      "Processing complete!\n"
     ]
    },
    {
     "name": "stderr",
     "output_type": "stream",
     "text": [
      "\n"
     ]
    }
   ],
   "source": [
    "import os\n",
    "import pandas as pd\n",
    "import json\n",
    "import gzip\n",
    "import numpy as np\n",
    "from tqdm import tqdm\n",
    "\n",
    "# Create output directory if it doesn't exist\n",
    "output_dir = './genes_optimized'\n",
    "os.makedirs(output_dir, exist_ok=True)\n",
    "\n",
    "# List of genes to process\n",
    "genes_to_process_path = './gene_list.json'\n",
    "if os.path.exists(genes_to_process_path):\n",
    "    with open(genes_to_process_path) as f:\n",
    "        genes_to_process = json.load(f)\n",
    "else:\n",
    "    genes_to_process = [\n",
    "        \"ackr3b\",\n",
    "        \"acvr1ba\",\n",
    "        \"add3b\",\n",
    "        \"adka\",\n",
    "        \"admp\",\n",
    "        \"ahi1\",\n",
    "        \"akap12b\"\n",
    "    ]\n",
    "\n",
    "# Dictionary to store data for each gene\n",
    "gene_data = {gene: {\"layers\": {}} for gene in genes_to_process}\n",
    "\n",
    "# Process each layer\n",
    "for layer in tqdm(range(0, 60), desc=\"Processing layers\"):\n",
    "    print(f\"Processing layer {layer}...\")\n",
    "    \n",
    "    # Read the CSV file for this layer\n",
    "    layer_str = f\"{layer:02d}\" if layer < 10 else str(layer)\n",
    "    csv_path = f\"./genes_raw/transcripts_z_{layer_str}.csv\"\n",
    "    if not os.path.exists(csv_path):\n",
    "        print(f\"Warning: File {csv_path} not found, skipping.\")\n",
    "        continue\n",
    "    \n",
    "    df = pd.read_csv(csv_path)\n",
    "    \n",
    "    # Make sure 'gene' column exists (adjust column name if needed)\n",
    "    if 'gene' not in df.columns:\n",
    "        print(f\"Error: 'gene' column not found in {csv_path}\")\n",
    "        print(f\"Available columns: {df.columns.tolist()}\")\n",
    "        continue\n",
    "    \n",
    "    # Make sure 'x' and 'y' columns exist\n",
    "    if 'x' not in df.columns or 'y' not in df.columns:\n",
    "        print(f\"Error: 'x' or 'y' columns not found in {csv_path}\")\n",
    "        print(f\"Available columns: {df.columns.tolist()}\")\n",
    "        continue\n",
    "    \n",
    "    # Process each gene\n",
    "    for gene in tqdm(genes_to_process, desc=f\"Processing genes for layer {layer}\"):\n",
    "        # Filter data for this gene\n",
    "        gene_df = df[df['gene'] == gene]\n",
    "        \n",
    "        if len(gene_df) == 0:\n",
    "            # No data for this gene in this layer\n",
    "            gene_data[gene][\"layers\"][str(layer)] = []\n",
    "            continue\n",
    "        \n",
    "        # Extract x and y coordinates and flatten them\n",
    "        coords = []\n",
    "        for _, row in gene_df.iterrows():\n",
    "            coords.append(int(row['x']) if row['x'].is_integer() else float(row['x']))\n",
    "            coords.append(int(row['y']) if row['y'].is_integer() else float(row['y']))\n",
    "        \n",
    "        # Store the coordinates for this layer\n",
    "        gene_data[gene][\"layers\"][str(layer)] = coords\n",
    "\n",
    "# Save each gene's data to a compressed JSON file\n",
    "for gene, data in tqdm(gene_data.items(), desc=\"Saving genes to disk\"):\n",
    "    # Skip genes with no data\n",
    "    if all(len(coords) == 0 for coords in data[\"layers\"].values()):\n",
    "        print(f\"Skipping {gene} - no data found\")\n",
    "        continue\n",
    "    \n",
    "    # Convert to JSON\n",
    "    json_data = json.dumps(data)\n",
    "    \n",
    "    # Compress with gzip\n",
    "    output_path = os.path.join(output_dir, f\"{gene}.json.gz\")\n",
    "    with gzip.open(output_path, 'wt') as f:\n",
    "        f.write(json_data)\n",
    "    \n",
    "    # Print file size\n",
    "    file_size = os.path.getsize(output_path) / 1024  # KB\n",
    "    print(f\"Saved {gene}.json.gz ({file_size:.2f} KB)\")\n",
    "\n",
    "print(\"Processing complete!\")"
   ]
  },
  {
   "cell_type": "code",
   "execution_count": null,
   "metadata": {},
   "outputs": [],
   "source": []
  }
 ],
 "metadata": {
  "kernelspec": {
   "display_name": ".venv",
   "language": "python",
   "name": "python3"
  },
  "language_info": {
   "codemirror_mode": {
    "name": "ipython",
    "version": 3
   },
   "file_extension": ".py",
   "mimetype": "text/x-python",
   "name": "python",
   "nbconvert_exporter": "python",
   "pygments_lexer": "ipython3",
   "version": "3.13.1"
  }
 },
 "nbformat": 4,
 "nbformat_minor": 2
}
